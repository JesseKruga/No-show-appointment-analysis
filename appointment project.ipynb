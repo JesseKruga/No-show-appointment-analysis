{
 "cells": [
  {
   "cell_type": "code",
   "execution_count": 231,
   "id": "401ad537",
   "metadata": {},
   "outputs": [],
   "source": [
    "# Importing the necessary libraries\n",
    "import pandas as pd\n",
    "import numpy as np\n",
    "import seaborn as sb\n",
    "import matplotlib.pyplot as plt\n",
    "\n",
    "%matplotlib inline "
   ]
  },
  {
   "cell_type": "markdown",
   "id": "7c71ab4f",
   "metadata": {},
   "source": [
    "## ACCESSING THE DATA"
   ]
  },
  {
   "cell_type": "code",
   "execution_count": 269,
   "id": "39f40eac",
   "metadata": {},
   "outputs": [
    {
     "data": {
      "text/html": [
       "<div>\n",
       "<style scoped>\n",
       "    .dataframe tbody tr th:only-of-type {\n",
       "        vertical-align: middle;\n",
       "    }\n",
       "\n",
       "    .dataframe tbody tr th {\n",
       "        vertical-align: top;\n",
       "    }\n",
       "\n",
       "    .dataframe thead th {\n",
       "        text-align: right;\n",
       "    }\n",
       "</style>\n",
       "<table border=\"1\" class=\"dataframe\">\n",
       "  <thead>\n",
       "    <tr style=\"text-align: right;\">\n",
       "      <th></th>\n",
       "      <th>PatientId</th>\n",
       "      <th>AppointmentID</th>\n",
       "      <th>Gender</th>\n",
       "      <th>ScheduledDay</th>\n",
       "      <th>AppointmentDay</th>\n",
       "      <th>Age</th>\n",
       "      <th>Neighbourhood</th>\n",
       "      <th>Scholarship</th>\n",
       "      <th>Hipertension</th>\n",
       "      <th>Diabetes</th>\n",
       "      <th>Alcoholism</th>\n",
       "      <th>Handcap</th>\n",
       "      <th>SMS_received</th>\n",
       "      <th>No-show</th>\n",
       "    </tr>\n",
       "  </thead>\n",
       "  <tbody>\n",
       "    <tr>\n",
       "      <th>0</th>\n",
       "      <td>2.987250e+13</td>\n",
       "      <td>5642903</td>\n",
       "      <td>F</td>\n",
       "      <td>2016-04-29T18:38:08Z</td>\n",
       "      <td>2016-04-29T00:00:00Z</td>\n",
       "      <td>62</td>\n",
       "      <td>JARDIM DA PENHA</td>\n",
       "      <td>0</td>\n",
       "      <td>1</td>\n",
       "      <td>0</td>\n",
       "      <td>0</td>\n",
       "      <td>0</td>\n",
       "      <td>0</td>\n",
       "      <td>No</td>\n",
       "    </tr>\n",
       "    <tr>\n",
       "      <th>1</th>\n",
       "      <td>5.589978e+14</td>\n",
       "      <td>5642503</td>\n",
       "      <td>M</td>\n",
       "      <td>2016-04-29T16:08:27Z</td>\n",
       "      <td>2016-04-29T00:00:00Z</td>\n",
       "      <td>56</td>\n",
       "      <td>JARDIM DA PENHA</td>\n",
       "      <td>0</td>\n",
       "      <td>0</td>\n",
       "      <td>0</td>\n",
       "      <td>0</td>\n",
       "      <td>0</td>\n",
       "      <td>0</td>\n",
       "      <td>No</td>\n",
       "    </tr>\n",
       "    <tr>\n",
       "      <th>2</th>\n",
       "      <td>4.262962e+12</td>\n",
       "      <td>5642549</td>\n",
       "      <td>F</td>\n",
       "      <td>2016-04-29T16:19:04Z</td>\n",
       "      <td>2016-04-29T00:00:00Z</td>\n",
       "      <td>62</td>\n",
       "      <td>MATA DA PRAIA</td>\n",
       "      <td>0</td>\n",
       "      <td>0</td>\n",
       "      <td>0</td>\n",
       "      <td>0</td>\n",
       "      <td>0</td>\n",
       "      <td>0</td>\n",
       "      <td>No</td>\n",
       "    </tr>\n",
       "    <tr>\n",
       "      <th>3</th>\n",
       "      <td>8.679512e+11</td>\n",
       "      <td>5642828</td>\n",
       "      <td>F</td>\n",
       "      <td>2016-04-29T17:29:31Z</td>\n",
       "      <td>2016-04-29T00:00:00Z</td>\n",
       "      <td>8</td>\n",
       "      <td>PONTAL DE CAMBURI</td>\n",
       "      <td>0</td>\n",
       "      <td>0</td>\n",
       "      <td>0</td>\n",
       "      <td>0</td>\n",
       "      <td>0</td>\n",
       "      <td>0</td>\n",
       "      <td>No</td>\n",
       "    </tr>\n",
       "    <tr>\n",
       "      <th>4</th>\n",
       "      <td>8.841186e+12</td>\n",
       "      <td>5642494</td>\n",
       "      <td>F</td>\n",
       "      <td>2016-04-29T16:07:23Z</td>\n",
       "      <td>2016-04-29T00:00:00Z</td>\n",
       "      <td>56</td>\n",
       "      <td>JARDIM DA PENHA</td>\n",
       "      <td>0</td>\n",
       "      <td>1</td>\n",
       "      <td>1</td>\n",
       "      <td>0</td>\n",
       "      <td>0</td>\n",
       "      <td>0</td>\n",
       "      <td>No</td>\n",
       "    </tr>\n",
       "  </tbody>\n",
       "</table>\n",
       "</div>"
      ],
      "text/plain": [
       "      PatientId  AppointmentID Gender          ScheduledDay  \\\n",
       "0  2.987250e+13        5642903      F  2016-04-29T18:38:08Z   \n",
       "1  5.589978e+14        5642503      M  2016-04-29T16:08:27Z   \n",
       "2  4.262962e+12        5642549      F  2016-04-29T16:19:04Z   \n",
       "3  8.679512e+11        5642828      F  2016-04-29T17:29:31Z   \n",
       "4  8.841186e+12        5642494      F  2016-04-29T16:07:23Z   \n",
       "\n",
       "         AppointmentDay  Age      Neighbourhood  Scholarship  Hipertension  \\\n",
       "0  2016-04-29T00:00:00Z   62    JARDIM DA PENHA            0             1   \n",
       "1  2016-04-29T00:00:00Z   56    JARDIM DA PENHA            0             0   \n",
       "2  2016-04-29T00:00:00Z   62      MATA DA PRAIA            0             0   \n",
       "3  2016-04-29T00:00:00Z    8  PONTAL DE CAMBURI            0             0   \n",
       "4  2016-04-29T00:00:00Z   56    JARDIM DA PENHA            0             1   \n",
       "\n",
       "   Diabetes  Alcoholism  Handcap  SMS_received No-show  \n",
       "0         0           0        0             0      No  \n",
       "1         0           0        0             0      No  \n",
       "2         0           0        0             0      No  \n",
       "3         0           0        0             0      No  \n",
       "4         1           0        0             0      No  "
      ]
     },
     "execution_count": 269,
     "metadata": {},
     "output_type": "execute_result"
    }
   ],
   "source": [
    "# Reading the csv file into the dataframe\n",
    "df = pd.read_csv('noshowappointments-kagglev2-may-2016.csv')\n",
    "df.head()"
   ]
  },
  {
   "cell_type": "code",
   "execution_count": 270,
   "id": "a8d7db61",
   "metadata": {},
   "outputs": [
    {
     "name": "stdout",
     "output_type": "stream",
     "text": [
      "<class 'pandas.core.frame.DataFrame'>\n",
      "RangeIndex: 110527 entries, 0 to 110526\n",
      "Data columns (total 14 columns):\n",
      " #   Column          Non-Null Count   Dtype  \n",
      "---  ------          --------------   -----  \n",
      " 0   PatientId       110527 non-null  float64\n",
      " 1   AppointmentID   110527 non-null  int64  \n",
      " 2   Gender          110527 non-null  object \n",
      " 3   ScheduledDay    110527 non-null  object \n",
      " 4   AppointmentDay  110527 non-null  object \n",
      " 5   Age             110527 non-null  int64  \n",
      " 6   Neighbourhood   110527 non-null  object \n",
      " 7   Scholarship     110527 non-null  int64  \n",
      " 8   Hipertension    110527 non-null  int64  \n",
      " 9   Diabetes        110527 non-null  int64  \n",
      " 10  Alcoholism      110527 non-null  int64  \n",
      " 11  Handcap         110527 non-null  int64  \n",
      " 12  SMS_received    110527 non-null  int64  \n",
      " 13  No-show         110527 non-null  object \n",
      "dtypes: float64(1), int64(8), object(5)\n",
      "memory usage: 11.8+ MB\n"
     ]
    }
   ],
   "source": [
    "# Checking the datatype and column names\n",
    "df.info()"
   ]
  },
  {
   "cell_type": "code",
   "execution_count": 271,
   "id": "a6bf4ade",
   "metadata": {},
   "outputs": [
    {
     "data": {
      "text/plain": [
       "0"
      ]
     },
     "execution_count": 271,
     "metadata": {},
     "output_type": "execute_result"
    }
   ],
   "source": [
    "# Checking for duplicate rows or records\n",
    "df.duplicated().sum()"
   ]
  },
  {
   "cell_type": "code",
   "execution_count": 272,
   "id": "da2f2afd",
   "metadata": {},
   "outputs": [
    {
     "data": {
      "text/plain": [
       "8.221459e+14    88\n",
       "9.963767e+10    84\n",
       "2.688613e+13    70\n",
       "3.353478e+13    65\n",
       "6.264199e+12    62\n",
       "                ..\n",
       "8.622636e+11     1\n",
       "9.267587e+12     1\n",
       "5.764356e+12     1\n",
       "5.712491e+12     1\n",
       "1.557663e+13     1\n",
       "Name: PatientId, Length: 62299, dtype: int64"
      ]
     },
     "execution_count": 272,
     "metadata": {},
     "output_type": "execute_result"
    }
   ],
   "source": [
    "# Checking whether there are unique \n",
    "df.PatientId.value_counts()"
   ]
  },
  {
   "cell_type": "code",
   "execution_count": 273,
   "id": "8c22f772",
   "metadata": {},
   "outputs": [
    {
     "data": {
      "text/plain": [
       "0"
      ]
     },
     "execution_count": 273,
     "metadata": {},
     "output_type": "execute_result"
    }
   ],
   "source": [
    "# Checking for null values\n",
    "df.isnull().sum().sum()"
   ]
  },
  {
   "cell_type": "code",
   "execution_count": 274,
   "id": "b1deae5c",
   "metadata": {},
   "outputs": [
    {
     "data": {
      "text/plain": [
       "0    108286\n",
       "1      2042\n",
       "2       183\n",
       "3        13\n",
       "4         3\n",
       "Name: Handcap, dtype: int64"
      ]
     },
     "execution_count": 274,
     "metadata": {},
     "output_type": "execute_result"
    }
   ],
   "source": [
    "# Checking the values assigned to records in the Handcap column\n",
    "df.Handcap.value_counts()"
   ]
  },
  {
   "cell_type": "code",
   "execution_count": 275,
   "id": "2a5ab93a",
   "metadata": {},
   "outputs": [
    {
     "data": {
      "text/plain": [
       " 0      3539\n",
       " 1      2273\n",
       " 52     1746\n",
       " 49     1652\n",
       " 53     1651\n",
       "        ... \n",
       " 115       5\n",
       " 100       4\n",
       " 102       2\n",
       " 99        1\n",
       "-1         1\n",
       "Name: Age, Length: 104, dtype: int64"
      ]
     },
     "execution_count": 275,
     "metadata": {},
     "output_type": "execute_result"
    }
   ],
   "source": [
    "# Checking the age assigned to each record \n",
    "df.Age.value_counts()"
   ]
  },
  {
   "cell_type": "code",
   "execution_count": 276,
   "id": "e29ceb65",
   "metadata": {},
   "outputs": [
    {
     "data": {
      "text/plain": [
       "count    110527.000000\n",
       "mean         37.088874\n",
       "std          23.110205\n",
       "min          -1.000000\n",
       "25%          18.000000\n",
       "50%          37.000000\n",
       "75%          55.000000\n",
       "max         115.000000\n",
       "Name: Age, dtype: float64"
      ]
     },
     "execution_count": 276,
     "metadata": {},
     "output_type": "execute_result"
    }
   ],
   "source": [
    "# Checking for errors in the entries\n",
    "df.Age.describe()"
   ]
  },
  {
   "cell_type": "code",
   "execution_count": 277,
   "id": "73954918",
   "metadata": {},
   "outputs": [
    {
     "data": {
      "text/html": [
       "<div>\n",
       "<style scoped>\n",
       "    .dataframe tbody tr th:only-of-type {\n",
       "        vertical-align: middle;\n",
       "    }\n",
       "\n",
       "    .dataframe tbody tr th {\n",
       "        vertical-align: top;\n",
       "    }\n",
       "\n",
       "    .dataframe thead th {\n",
       "        text-align: right;\n",
       "    }\n",
       "</style>\n",
       "<table border=\"1\" class=\"dataframe\">\n",
       "  <thead>\n",
       "    <tr style=\"text-align: right;\">\n",
       "      <th></th>\n",
       "      <th>PatientId</th>\n",
       "      <th>AppointmentID</th>\n",
       "      <th>Gender</th>\n",
       "      <th>ScheduledDay</th>\n",
       "      <th>AppointmentDay</th>\n",
       "      <th>Age</th>\n",
       "      <th>Neighbourhood</th>\n",
       "      <th>Scholarship</th>\n",
       "      <th>Hipertension</th>\n",
       "      <th>Diabetes</th>\n",
       "      <th>Alcoholism</th>\n",
       "      <th>Handcap</th>\n",
       "      <th>SMS_received</th>\n",
       "      <th>No-show</th>\n",
       "    </tr>\n",
       "  </thead>\n",
       "  <tbody>\n",
       "    <tr>\n",
       "      <th>99832</th>\n",
       "      <td>4.659432e+14</td>\n",
       "      <td>5775010</td>\n",
       "      <td>F</td>\n",
       "      <td>2016-06-06T08:58:13Z</td>\n",
       "      <td>2016-06-06T00:00:00Z</td>\n",
       "      <td>-1</td>\n",
       "      <td>ROMÃO</td>\n",
       "      <td>0</td>\n",
       "      <td>0</td>\n",
       "      <td>0</td>\n",
       "      <td>0</td>\n",
       "      <td>0</td>\n",
       "      <td>0</td>\n",
       "      <td>No</td>\n",
       "    </tr>\n",
       "    <tr>\n",
       "      <th>59</th>\n",
       "      <td>7.184428e+13</td>\n",
       "      <td>5638545</td>\n",
       "      <td>F</td>\n",
       "      <td>2016-04-29T08:08:43Z</td>\n",
       "      <td>2016-04-29T00:00:00Z</td>\n",
       "      <td>0</td>\n",
       "      <td>CONQUISTA</td>\n",
       "      <td>0</td>\n",
       "      <td>0</td>\n",
       "      <td>0</td>\n",
       "      <td>0</td>\n",
       "      <td>0</td>\n",
       "      <td>0</td>\n",
       "      <td>No</td>\n",
       "    </tr>\n",
       "    <tr>\n",
       "      <th>63</th>\n",
       "      <td>2.366233e+14</td>\n",
       "      <td>5628286</td>\n",
       "      <td>M</td>\n",
       "      <td>2016-04-27T10:46:12Z</td>\n",
       "      <td>2016-04-29T00:00:00Z</td>\n",
       "      <td>0</td>\n",
       "      <td>SÃO BENEDITO</td>\n",
       "      <td>0</td>\n",
       "      <td>0</td>\n",
       "      <td>0</td>\n",
       "      <td>0</td>\n",
       "      <td>0</td>\n",
       "      <td>0</td>\n",
       "      <td>No</td>\n",
       "    </tr>\n",
       "    <tr>\n",
       "      <th>64</th>\n",
       "      <td>1.885174e+14</td>\n",
       "      <td>5616082</td>\n",
       "      <td>M</td>\n",
       "      <td>2016-04-25T13:28:21Z</td>\n",
       "      <td>2016-04-29T00:00:00Z</td>\n",
       "      <td>0</td>\n",
       "      <td>ILHA DAS CAIEIRAS</td>\n",
       "      <td>0</td>\n",
       "      <td>0</td>\n",
       "      <td>0</td>\n",
       "      <td>0</td>\n",
       "      <td>0</td>\n",
       "      <td>1</td>\n",
       "      <td>No</td>\n",
       "    </tr>\n",
       "    <tr>\n",
       "      <th>65</th>\n",
       "      <td>2.718818e+14</td>\n",
       "      <td>5628321</td>\n",
       "      <td>M</td>\n",
       "      <td>2016-04-27T10:48:50Z</td>\n",
       "      <td>2016-04-29T00:00:00Z</td>\n",
       "      <td>0</td>\n",
       "      <td>CONQUISTA</td>\n",
       "      <td>0</td>\n",
       "      <td>0</td>\n",
       "      <td>0</td>\n",
       "      <td>0</td>\n",
       "      <td>0</td>\n",
       "      <td>0</td>\n",
       "      <td>No</td>\n",
       "    </tr>\n",
       "    <tr>\n",
       "      <th>67</th>\n",
       "      <td>8.647128e+13</td>\n",
       "      <td>5639264</td>\n",
       "      <td>F</td>\n",
       "      <td>2016-04-29T08:53:02Z</td>\n",
       "      <td>2016-04-29T00:00:00Z</td>\n",
       "      <td>0</td>\n",
       "      <td>NOVA PALESTINA</td>\n",
       "      <td>0</td>\n",
       "      <td>0</td>\n",
       "      <td>0</td>\n",
       "      <td>0</td>\n",
       "      <td>0</td>\n",
       "      <td>0</td>\n",
       "      <td>No</td>\n",
       "    </tr>\n",
       "    <tr>\n",
       "      <th>89</th>\n",
       "      <td>4.314932e+14</td>\n",
       "      <td>5640380</td>\n",
       "      <td>M</td>\n",
       "      <td>2016-04-29T10:37:02Z</td>\n",
       "      <td>2016-04-29T00:00:00Z</td>\n",
       "      <td>0</td>\n",
       "      <td>MONTE BELO</td>\n",
       "      <td>0</td>\n",
       "      <td>0</td>\n",
       "      <td>0</td>\n",
       "      <td>0</td>\n",
       "      <td>0</td>\n",
       "      <td>0</td>\n",
       "      <td>No</td>\n",
       "    </tr>\n",
       "    <tr>\n",
       "      <th>101</th>\n",
       "      <td>6.822847e+13</td>\n",
       "      <td>5642813</td>\n",
       "      <td>M</td>\n",
       "      <td>2016-04-29T17:24:19Z</td>\n",
       "      <td>2016-04-29T00:00:00Z</td>\n",
       "      <td>0</td>\n",
       "      <td>BONFIM</td>\n",
       "      <td>0</td>\n",
       "      <td>0</td>\n",
       "      <td>0</td>\n",
       "      <td>0</td>\n",
       "      <td>0</td>\n",
       "      <td>0</td>\n",
       "      <td>No</td>\n",
       "    </tr>\n",
       "    <tr>\n",
       "      <th>104</th>\n",
       "      <td>3.326985e+12</td>\n",
       "      <td>5632495</td>\n",
       "      <td>F</td>\n",
       "      <td>2016-04-28T08:04:48Z</td>\n",
       "      <td>2016-04-29T00:00:00Z</td>\n",
       "      <td>0</td>\n",
       "      <td>SANTO ANTÔNIO</td>\n",
       "      <td>0</td>\n",
       "      <td>0</td>\n",
       "      <td>0</td>\n",
       "      <td>0</td>\n",
       "      <td>0</td>\n",
       "      <td>0</td>\n",
       "      <td>Yes</td>\n",
       "    </tr>\n",
       "    <tr>\n",
       "      <th>132</th>\n",
       "      <td>8.468587e+14</td>\n",
       "      <td>5560742</td>\n",
       "      <td>M</td>\n",
       "      <td>2016-04-08T09:29:23Z</td>\n",
       "      <td>2016-04-29T00:00:00Z</td>\n",
       "      <td>0</td>\n",
       "      <td>PRAIA DO SUÁ</td>\n",
       "      <td>0</td>\n",
       "      <td>0</td>\n",
       "      <td>0</td>\n",
       "      <td>0</td>\n",
       "      <td>0</td>\n",
       "      <td>1</td>\n",
       "      <td>Yes</td>\n",
       "    </tr>\n",
       "    <tr>\n",
       "      <th>150</th>\n",
       "      <td>5.392419e+10</td>\n",
       "      <td>5641476</td>\n",
       "      <td>M</td>\n",
       "      <td>2016-04-29T13:43:34Z</td>\n",
       "      <td>2016-04-29T00:00:00Z</td>\n",
       "      <td>0</td>\n",
       "      <td>ITARARÉ</td>\n",
       "      <td>0</td>\n",
       "      <td>0</td>\n",
       "      <td>0</td>\n",
       "      <td>0</td>\n",
       "      <td>0</td>\n",
       "      <td>0</td>\n",
       "      <td>No</td>\n",
       "    </tr>\n",
       "    <tr>\n",
       "      <th>188</th>\n",
       "      <td>1.883366e+14</td>\n",
       "      <td>5640933</td>\n",
       "      <td>M</td>\n",
       "      <td>2016-04-29T11:44:49Z</td>\n",
       "      <td>2016-04-29T00:00:00Z</td>\n",
       "      <td>0</td>\n",
       "      <td>NOVA PALESTINA</td>\n",
       "      <td>0</td>\n",
       "      <td>0</td>\n",
       "      <td>0</td>\n",
       "      <td>0</td>\n",
       "      <td>0</td>\n",
       "      <td>0</td>\n",
       "      <td>No</td>\n",
       "    </tr>\n",
       "    <tr>\n",
       "      <th>192</th>\n",
       "      <td>1.165338e+12</td>\n",
       "      <td>5640561</td>\n",
       "      <td>M</td>\n",
       "      <td>2016-04-29T10:57:14Z</td>\n",
       "      <td>2016-04-29T00:00:00Z</td>\n",
       "      <td>0</td>\n",
       "      <td>CONQUISTA</td>\n",
       "      <td>0</td>\n",
       "      <td>0</td>\n",
       "      <td>0</td>\n",
       "      <td>0</td>\n",
       "      <td>0</td>\n",
       "      <td>0</td>\n",
       "      <td>No</td>\n",
       "    </tr>\n",
       "    <tr>\n",
       "      <th>193</th>\n",
       "      <td>2.379698e+11</td>\n",
       "      <td>5532452</td>\n",
       "      <td>F</td>\n",
       "      <td>2016-03-31T11:14:57Z</td>\n",
       "      <td>2016-04-29T00:00:00Z</td>\n",
       "      <td>0</td>\n",
       "      <td>NOVA PALESTINA</td>\n",
       "      <td>0</td>\n",
       "      <td>0</td>\n",
       "      <td>0</td>\n",
       "      <td>0</td>\n",
       "      <td>0</td>\n",
       "      <td>1</td>\n",
       "      <td>No</td>\n",
       "    </tr>\n",
       "    <tr>\n",
       "      <th>194</th>\n",
       "      <td>4.442538e+11</td>\n",
       "      <td>5539566</td>\n",
       "      <td>M</td>\n",
       "      <td>2016-04-01T15:17:10Z</td>\n",
       "      <td>2016-04-29T00:00:00Z</td>\n",
       "      <td>0</td>\n",
       "      <td>REDENÇÃO</td>\n",
       "      <td>0</td>\n",
       "      <td>0</td>\n",
       "      <td>0</td>\n",
       "      <td>0</td>\n",
       "      <td>0</td>\n",
       "      <td>0</td>\n",
       "      <td>No</td>\n",
       "    </tr>\n",
       "    <tr>\n",
       "      <th>250</th>\n",
       "      <td>2.942723e+14</td>\n",
       "      <td>5640181</td>\n",
       "      <td>M</td>\n",
       "      <td>2016-04-29T10:13:35Z</td>\n",
       "      <td>2016-04-29T00:00:00Z</td>\n",
       "      <td>0</td>\n",
       "      <td>CARATOÍRA</td>\n",
       "      <td>0</td>\n",
       "      <td>0</td>\n",
       "      <td>0</td>\n",
       "      <td>0</td>\n",
       "      <td>0</td>\n",
       "      <td>0</td>\n",
       "      <td>Yes</td>\n",
       "    </tr>\n",
       "    <tr>\n",
       "      <th>256</th>\n",
       "      <td>8.599713e+10</td>\n",
       "      <td>5629906</td>\n",
       "      <td>F</td>\n",
       "      <td>2016-04-27T14:19:02Z</td>\n",
       "      <td>2016-04-29T00:00:00Z</td>\n",
       "      <td>0</td>\n",
       "      <td>ARIOVALDO FAVALESSA</td>\n",
       "      <td>0</td>\n",
       "      <td>0</td>\n",
       "      <td>0</td>\n",
       "      <td>0</td>\n",
       "      <td>0</td>\n",
       "      <td>0</td>\n",
       "      <td>Yes</td>\n",
       "    </tr>\n",
       "    <tr>\n",
       "      <th>266</th>\n",
       "      <td>1.198173e+13</td>\n",
       "      <td>5639237</td>\n",
       "      <td>M</td>\n",
       "      <td>2016-04-29T08:50:09Z</td>\n",
       "      <td>2016-04-29T00:00:00Z</td>\n",
       "      <td>0</td>\n",
       "      <td>MARIA ORTIZ</td>\n",
       "      <td>0</td>\n",
       "      <td>0</td>\n",
       "      <td>0</td>\n",
       "      <td>0</td>\n",
       "      <td>0</td>\n",
       "      <td>0</td>\n",
       "      <td>No</td>\n",
       "    </tr>\n",
       "    <tr>\n",
       "      <th>292</th>\n",
       "      <td>4.645238e+13</td>\n",
       "      <td>5642766</td>\n",
       "      <td>F</td>\n",
       "      <td>2016-04-29T17:06:22Z</td>\n",
       "      <td>2016-04-29T00:00:00Z</td>\n",
       "      <td>0</td>\n",
       "      <td>GURIGICA</td>\n",
       "      <td>0</td>\n",
       "      <td>0</td>\n",
       "      <td>0</td>\n",
       "      <td>0</td>\n",
       "      <td>0</td>\n",
       "      <td>0</td>\n",
       "      <td>No</td>\n",
       "    </tr>\n",
       "    <tr>\n",
       "      <th>305</th>\n",
       "      <td>9.794819e+11</td>\n",
       "      <td>5638226</td>\n",
       "      <td>F</td>\n",
       "      <td>2016-04-29T07:49:54Z</td>\n",
       "      <td>2016-04-29T00:00:00Z</td>\n",
       "      <td>0</td>\n",
       "      <td>JOANA D´ARC</td>\n",
       "      <td>0</td>\n",
       "      <td>0</td>\n",
       "      <td>0</td>\n",
       "      <td>0</td>\n",
       "      <td>0</td>\n",
       "      <td>0</td>\n",
       "      <td>No</td>\n",
       "    </tr>\n",
       "  </tbody>\n",
       "</table>\n",
       "</div>"
      ],
      "text/plain": [
       "          PatientId  AppointmentID Gender          ScheduledDay  \\\n",
       "99832  4.659432e+14        5775010      F  2016-06-06T08:58:13Z   \n",
       "59     7.184428e+13        5638545      F  2016-04-29T08:08:43Z   \n",
       "63     2.366233e+14        5628286      M  2016-04-27T10:46:12Z   \n",
       "64     1.885174e+14        5616082      M  2016-04-25T13:28:21Z   \n",
       "65     2.718818e+14        5628321      M  2016-04-27T10:48:50Z   \n",
       "67     8.647128e+13        5639264      F  2016-04-29T08:53:02Z   \n",
       "89     4.314932e+14        5640380      M  2016-04-29T10:37:02Z   \n",
       "101    6.822847e+13        5642813      M  2016-04-29T17:24:19Z   \n",
       "104    3.326985e+12        5632495      F  2016-04-28T08:04:48Z   \n",
       "132    8.468587e+14        5560742      M  2016-04-08T09:29:23Z   \n",
       "150    5.392419e+10        5641476      M  2016-04-29T13:43:34Z   \n",
       "188    1.883366e+14        5640933      M  2016-04-29T11:44:49Z   \n",
       "192    1.165338e+12        5640561      M  2016-04-29T10:57:14Z   \n",
       "193    2.379698e+11        5532452      F  2016-03-31T11:14:57Z   \n",
       "194    4.442538e+11        5539566      M  2016-04-01T15:17:10Z   \n",
       "250    2.942723e+14        5640181      M  2016-04-29T10:13:35Z   \n",
       "256    8.599713e+10        5629906      F  2016-04-27T14:19:02Z   \n",
       "266    1.198173e+13        5639237      M  2016-04-29T08:50:09Z   \n",
       "292    4.645238e+13        5642766      F  2016-04-29T17:06:22Z   \n",
       "305    9.794819e+11        5638226      F  2016-04-29T07:49:54Z   \n",
       "\n",
       "             AppointmentDay  Age        Neighbourhood  Scholarship  \\\n",
       "99832  2016-06-06T00:00:00Z   -1                ROMÃO            0   \n",
       "59     2016-04-29T00:00:00Z    0            CONQUISTA            0   \n",
       "63     2016-04-29T00:00:00Z    0         SÃO BENEDITO            0   \n",
       "64     2016-04-29T00:00:00Z    0    ILHA DAS CAIEIRAS            0   \n",
       "65     2016-04-29T00:00:00Z    0            CONQUISTA            0   \n",
       "67     2016-04-29T00:00:00Z    0       NOVA PALESTINA            0   \n",
       "89     2016-04-29T00:00:00Z    0           MONTE BELO            0   \n",
       "101    2016-04-29T00:00:00Z    0               BONFIM            0   \n",
       "104    2016-04-29T00:00:00Z    0        SANTO ANTÔNIO            0   \n",
       "132    2016-04-29T00:00:00Z    0         PRAIA DO SUÁ            0   \n",
       "150    2016-04-29T00:00:00Z    0              ITARARÉ            0   \n",
       "188    2016-04-29T00:00:00Z    0       NOVA PALESTINA            0   \n",
       "192    2016-04-29T00:00:00Z    0            CONQUISTA            0   \n",
       "193    2016-04-29T00:00:00Z    0       NOVA PALESTINA            0   \n",
       "194    2016-04-29T00:00:00Z    0             REDENÇÃO            0   \n",
       "250    2016-04-29T00:00:00Z    0            CARATOÍRA            0   \n",
       "256    2016-04-29T00:00:00Z    0  ARIOVALDO FAVALESSA            0   \n",
       "266    2016-04-29T00:00:00Z    0          MARIA ORTIZ            0   \n",
       "292    2016-04-29T00:00:00Z    0             GURIGICA            0   \n",
       "305    2016-04-29T00:00:00Z    0          JOANA D´ARC            0   \n",
       "\n",
       "       Hipertension  Diabetes  Alcoholism  Handcap  SMS_received No-show  \n",
       "99832             0         0           0        0             0      No  \n",
       "59                0         0           0        0             0      No  \n",
       "63                0         0           0        0             0      No  \n",
       "64                0         0           0        0             1      No  \n",
       "65                0         0           0        0             0      No  \n",
       "67                0         0           0        0             0      No  \n",
       "89                0         0           0        0             0      No  \n",
       "101               0         0           0        0             0      No  \n",
       "104               0         0           0        0             0     Yes  \n",
       "132               0         0           0        0             1     Yes  \n",
       "150               0         0           0        0             0      No  \n",
       "188               0         0           0        0             0      No  \n",
       "192               0         0           0        0             0      No  \n",
       "193               0         0           0        0             1      No  \n",
       "194               0         0           0        0             0      No  \n",
       "250               0         0           0        0             0     Yes  \n",
       "256               0         0           0        0             0     Yes  \n",
       "266               0         0           0        0             0      No  \n",
       "292               0         0           0        0             0      No  \n",
       "305               0         0           0        0             0      No  "
      ]
     },
     "execution_count": 277,
     "metadata": {},
     "output_type": "execute_result"
    }
   ],
   "source": [
    "df.nsmallest(20,'Age')"
   ]
  },
  {
   "cell_type": "markdown",
   "id": "fec3585c",
   "metadata": {},
   "source": [
    "## OBSERVATION\n",
    "### QUALITY\n",
    " - Incorrect column names\n",
    " - The age column has outliers\n",
    " - Better parameters for various columns instead of 0,1,2,3 and 4\n",
    " - Change the datatype of the scheduled day,appointment day,Scholarship,Hipertension,Diabetes,Alcoholism,Handcap columns\n",
    " - Create a waiting time column to find out the time patients waited to be attended to\n",
    " - The values for the Scholarship,Hipertension,Diabetes,Alcoholism,Handcap columns should be more explanatory\n",
    " - The values in the neighbourhood column should be in proper case\n",
    " "
   ]
  },
  {
   "cell_type": "markdown",
   "id": "4b557d9f",
   "metadata": {},
   "source": [
    "## CLEANING"
   ]
  },
  {
   "cell_type": "code",
   "execution_count": 278,
   "id": "810149ce",
   "metadata": {},
   "outputs": [],
   "source": [
    "# Creating a copy of the dataframe\n",
    "clean_df = df.copy()"
   ]
  },
  {
   "cell_type": "markdown",
   "id": "48432a6c",
   "metadata": {},
   "source": [
    "### Renaming the incorrect column names"
   ]
  },
  {
   "cell_type": "code",
   "execution_count": 279,
   "id": "7dd1247f",
   "metadata": {},
   "outputs": [],
   "source": [
    "clean_df.rename(columns={'Hipertension':'Hypertension','Handcap':'Handicap',\n",
    "                'ScheduledDay':'Scheduled_Day','AppointmentDay':'Appointment_Day','No-show':'No_show'} , inplace = True)"
   ]
  },
  {
   "cell_type": "code",
   "execution_count": 280,
   "id": "b4b798f6",
   "metadata": {},
   "outputs": [
    {
     "data": {
      "text/plain": [
       "Index(['PatientId', 'AppointmentID', 'Gender', 'Scheduled_Day',\n",
       "       'Appointment_Day', 'Age', 'Neighbourhood', 'Scholarship',\n",
       "       'Hypertension', 'Diabetes', 'Alcoholism', 'Handicap', 'SMS_received',\n",
       "       'No_show'],\n",
       "      dtype='object')"
      ]
     },
     "execution_count": 280,
     "metadata": {},
     "output_type": "execute_result"
    }
   ],
   "source": [
    "# Testing the code\n",
    "clean_df.columns"
   ]
  },
  {
   "cell_type": "markdown",
   "id": "d1a4334d",
   "metadata": {},
   "source": [
    "### Fixing the Age column values"
   ]
  },
  {
   "cell_type": "code",
   "execution_count": 281,
   "id": "1e57be27",
   "metadata": {},
   "outputs": [
    {
     "data": {
      "text/plain": [
       "<AxesSubplot:xlabel='Age'>"
      ]
     },
     "execution_count": 281,
     "metadata": {},
     "output_type": "execute_result"
    },
    {
     "data": {
      "image/png": "[encoded data removed]",
      "text/plain": [
       "<Figure size 432x288 with 1 Axes>"
      ]
     },
     "metadata": {
      "needs_background": "light"
     },
     "output_type": "display_data"
    }
   ],
   "source": [
    "# the -1 is an outlier because it isnt possible while the 115 is possible but will be considered an outlier due to the boxplot show below\n",
    "sb.boxplot(x=clean_df.Age)"
   ]
  },
  {
   "cell_type": "code",
   "execution_count": 282,
   "id": "98bd598f",
   "metadata": {},
   "outputs": [],
   "source": [
    "clean_df = clean_df[(clean_df.Age >= 0 ) & (clean_df.Age != 115)]\n"
   ]
  },
  {
   "cell_type": "code",
   "execution_count": 283,
   "id": "b3298812",
   "metadata": {},
   "outputs": [
    {
     "name": "stdout",
     "output_type": "stream",
     "text": [
      "102\n",
      "0\n"
     ]
    },
    {
     "data": {
      "text/plain": [
       "<AxesSubplot:xlabel='Age'>"
      ]
     },
     "execution_count": 283,
     "metadata": {},
     "output_type": "execute_result"
    },
    {
     "data": {
      "image/png": "[encoded data removed]",
      "text/plain": [
       "<Figure size 432x288 with 1 Axes>"
      ]
     },
     "metadata": {
      "needs_background": "light"
     },
     "output_type": "display_data"
    }
   ],
   "source": [
    "# Testing the code\n",
    "print(clean_df.Age.max())\n",
    "print(clean_df.Age.min())\n",
    "sb.boxplot(x=clean_df.Age)"
   ]
  },
  {
   "cell_type": "markdown",
   "id": "e44c183f",
   "metadata": {},
   "source": [
    "### Substituting better parameters for various columns"
   ]
  },
  {
   "cell_type": "code",
   "execution_count": 284,
   "id": "ae29f58f",
   "metadata": {},
   "outputs": [],
   "source": [
    "for col in ['Scholarship', 'Hypertension', 'Diabetes', 'Alcoholism', 'SMS_received', 'No_show']:\n",
    "    clean_df[col] = clean_df[col].replace({0:'No',1:'Yes'})"
   ]
  },
  {
   "cell_type": "code",
   "execution_count": 285,
   "id": "748d486b",
   "metadata": {},
   "outputs": [
    {
     "data": {
      "text/html": [
       "<div>\n",
       "<style scoped>\n",
       "    .dataframe tbody tr th:only-of-type {\n",
       "        vertical-align: middle;\n",
       "    }\n",
       "\n",
       "    .dataframe tbody tr th {\n",
       "        vertical-align: top;\n",
       "    }\n",
       "\n",
       "    .dataframe thead th {\n",
       "        text-align: right;\n",
       "    }\n",
       "</style>\n",
       "<table border=\"1\" class=\"dataframe\">\n",
       "  <thead>\n",
       "    <tr style=\"text-align: right;\">\n",
       "      <th></th>\n",
       "      <th>PatientId</th>\n",
       "      <th>AppointmentID</th>\n",
       "      <th>Gender</th>\n",
       "      <th>Scheduled_Day</th>\n",
       "      <th>Appointment_Day</th>\n",
       "      <th>Age</th>\n",
       "      <th>Neighbourhood</th>\n",
       "      <th>Scholarship</th>\n",
       "      <th>Hypertension</th>\n",
       "      <th>Diabetes</th>\n",
       "      <th>Alcoholism</th>\n",
       "      <th>Handicap</th>\n",
       "      <th>SMS_received</th>\n",
       "      <th>No_show</th>\n",
       "    </tr>\n",
       "  </thead>\n",
       "  <tbody>\n",
       "    <tr>\n",
       "      <th>0</th>\n",
       "      <td>2.987250e+13</td>\n",
       "      <td>5642903</td>\n",
       "      <td>F</td>\n",
       "      <td>2016-04-29T18:38:08Z</td>\n",
       "      <td>2016-04-29T00:00:00Z</td>\n",
       "      <td>62</td>\n",
       "      <td>JARDIM DA PENHA</td>\n",
       "      <td>No</td>\n",
       "      <td>Yes</td>\n",
       "      <td>No</td>\n",
       "      <td>No</td>\n",
       "      <td>0</td>\n",
       "      <td>No</td>\n",
       "      <td>No</td>\n",
       "    </tr>\n",
       "    <tr>\n",
       "      <th>1</th>\n",
       "      <td>5.589978e+14</td>\n",
       "      <td>5642503</td>\n",
       "      <td>M</td>\n",
       "      <td>2016-04-29T16:08:27Z</td>\n",
       "      <td>2016-04-29T00:00:00Z</td>\n",
       "      <td>56</td>\n",
       "      <td>JARDIM DA PENHA</td>\n",
       "      <td>No</td>\n",
       "      <td>No</td>\n",
       "      <td>No</td>\n",
       "      <td>No</td>\n",
       "      <td>0</td>\n",
       "      <td>No</td>\n",
       "      <td>No</td>\n",
       "    </tr>\n",
       "    <tr>\n",
       "      <th>2</th>\n",
       "      <td>4.262962e+12</td>\n",
       "      <td>5642549</td>\n",
       "      <td>F</td>\n",
       "      <td>2016-04-29T16:19:04Z</td>\n",
       "      <td>2016-04-29T00:00:00Z</td>\n",
       "      <td>62</td>\n",
       "      <td>MATA DA PRAIA</td>\n",
       "      <td>No</td>\n",
       "      <td>No</td>\n",
       "      <td>No</td>\n",
       "      <td>No</td>\n",
       "      <td>0</td>\n",
       "      <td>No</td>\n",
       "      <td>No</td>\n",
       "    </tr>\n",
       "    <tr>\n",
       "      <th>3</th>\n",
       "      <td>8.679512e+11</td>\n",
       "      <td>5642828</td>\n",
       "      <td>F</td>\n",
       "      <td>2016-04-29T17:29:31Z</td>\n",
       "      <td>2016-04-29T00:00:00Z</td>\n",
       "      <td>8</td>\n",
       "      <td>PONTAL DE CAMBURI</td>\n",
       "      <td>No</td>\n",
       "      <td>No</td>\n",
       "      <td>No</td>\n",
       "      <td>No</td>\n",
       "      <td>0</td>\n",
       "      <td>No</td>\n",
       "      <td>No</td>\n",
       "    </tr>\n",
       "    <tr>\n",
       "      <th>4</th>\n",
       "      <td>8.841186e+12</td>\n",
       "      <td>5642494</td>\n",
       "      <td>F</td>\n",
       "      <td>2016-04-29T16:07:23Z</td>\n",
       "      <td>2016-04-29T00:00:00Z</td>\n",
       "      <td>56</td>\n",
       "      <td>JARDIM DA PENHA</td>\n",
       "      <td>No</td>\n",
       "      <td>Yes</td>\n",
       "      <td>Yes</td>\n",
       "      <td>No</td>\n",
       "      <td>0</td>\n",
       "      <td>No</td>\n",
       "      <td>No</td>\n",
       "    </tr>\n",
       "  </tbody>\n",
       "</table>\n",
       "</div>"
      ],
      "text/plain": [
       "      PatientId  AppointmentID Gender         Scheduled_Day  \\\n",
       "0  2.987250e+13        5642903      F  2016-04-29T18:38:08Z   \n",
       "1  5.589978e+14        5642503      M  2016-04-29T16:08:27Z   \n",
       "2  4.262962e+12        5642549      F  2016-04-29T16:19:04Z   \n",
       "3  8.679512e+11        5642828      F  2016-04-29T17:29:31Z   \n",
       "4  8.841186e+12        5642494      F  2016-04-29T16:07:23Z   \n",
       "\n",
       "        Appointment_Day  Age      Neighbourhood Scholarship Hypertension  \\\n",
       "0  2016-04-29T00:00:00Z   62    JARDIM DA PENHA          No          Yes   \n",
       "1  2016-04-29T00:00:00Z   56    JARDIM DA PENHA          No           No   \n",
       "2  2016-04-29T00:00:00Z   62      MATA DA PRAIA          No           No   \n",
       "3  2016-04-29T00:00:00Z    8  PONTAL DE CAMBURI          No           No   \n",
       "4  2016-04-29T00:00:00Z   56    JARDIM DA PENHA          No          Yes   \n",
       "\n",
       "  Diabetes Alcoholism  Handicap SMS_received No_show  \n",
       "0       No         No         0           No      No  \n",
       "1       No         No         0           No      No  \n",
       "2       No         No         0           No      No  \n",
       "3       No         No         0           No      No  \n",
       "4      Yes         No         0           No      No  "
      ]
     },
     "execution_count": 285,
     "metadata": {},
     "output_type": "execute_result"
    }
   ],
   "source": [
    "# Testing the code\n",
    "clean_df.head()"
   ]
  },
  {
   "cell_type": "markdown",
   "id": "1142e8ed",
   "metadata": {},
   "source": [
    "### Changing the datatype of some columns"
   ]
  },
  {
   "cell_type": "code",
   "execution_count": 286,
   "id": "932ed9c6",
   "metadata": {},
   "outputs": [],
   "source": [
    "clean_df.Handicap = clean_df.Handicap.astype('category')\n",
    "clean_df['Scheduled_Day'] = pd.to_datetime(clean_df['Scheduled_Day'])\n",
    "clean_df['Appointment_Day'] =  pd.to_datetime(clean_df['Appointment_Day'])"
   ]
  },
  {
   "cell_type": "code",
   "execution_count": 287,
   "id": "8e153e7a",
   "metadata": {},
   "outputs": [
    {
     "name": "stdout",
     "output_type": "stream",
     "text": [
      "<class 'pandas.core.frame.DataFrame'>\n",
      "Int64Index: 110521 entries, 0 to 110526\n",
      "Data columns (total 14 columns):\n",
      " #   Column           Non-Null Count   Dtype              \n",
      "---  ------           --------------   -----              \n",
      " 0   PatientId        110521 non-null  float64            \n",
      " 1   AppointmentID    110521 non-null  int64              \n",
      " 2   Gender           110521 non-null  object             \n",
      " 3   Scheduled_Day    110521 non-null  datetime64[ns, UTC]\n",
      " 4   Appointment_Day  110521 non-null  datetime64[ns, UTC]\n",
      " 5   Age              110521 non-null  int64              \n",
      " 6   Neighbourhood    110521 non-null  object             \n",
      " 7   Scholarship      110521 non-null  object             \n",
      " 8   Hypertension     110521 non-null  object             \n",
      " 9   Diabetes         110521 non-null  object             \n",
      " 10  Alcoholism       110521 non-null  object             \n",
      " 11  Handicap         110521 non-null  category           \n",
      " 12  SMS_received     110521 non-null  object             \n",
      " 13  No_show          110521 non-null  object             \n",
      "dtypes: category(1), datetime64[ns, UTC](2), float64(1), int64(2), object(8)\n",
      "memory usage: 11.9+ MB\n"
     ]
    }
   ],
   "source": [
    "clean_df.info()"
   ]
  },
  {
   "cell_type": "markdown",
   "id": "2500e10c",
   "metadata": {},
   "source": [
    "### Obtaining the waiting times and day of appointment columns"
   ]
  },
  {
   "cell_type": "code",
   "execution_count": 288,
   "id": "928076bb",
   "metadata": {},
   "outputs": [],
   "source": [
    "clean_df.insert(5,'Waiting_time_in_days',(clean_df['Appointment_Day'] - clean_df['Scheduled_Day']).dt.total_seconds()/(3600*24))\n",
    "                "
   ]
  },
  {
   "cell_type": "code",
   "execution_count": 289,
   "id": "68026669",
   "metadata": {},
   "outputs": [],
   "source": [
    "clean_df = clean_df[clean_df['Waiting_time_in_days'] >= 0]\n",
    "clean_df.Waiting_time_in_days=clean_df.Waiting_time_in_days.round(2)"
   ]
  },
  {
   "cell_type": "code",
   "execution_count": 290,
   "id": "44a14e11",
   "metadata": {},
   "outputs": [],
   "source": [
    "clean_df.insert(5,'Day_of_Appointment',clean_df.Appointment_Day.dt.day_name())"
   ]
  },
  {
   "cell_type": "code",
   "execution_count": 291,
   "id": "e3a59519",
   "metadata": {},
   "outputs": [
    {
     "data": {
      "text/html": [
       "<div>\n",
       "<style scoped>\n",
       "    .dataframe tbody tr th:only-of-type {\n",
       "        vertical-align: middle;\n",
       "    }\n",
       "\n",
       "    .dataframe tbody tr th {\n",
       "        vertical-align: top;\n",
       "    }\n",
       "\n",
       "    .dataframe thead th {\n",
       "        text-align: right;\n",
       "    }\n",
       "</style>\n",
       "<table border=\"1\" class=\"dataframe\">\n",
       "  <thead>\n",
       "    <tr style=\"text-align: right;\">\n",
       "      <th></th>\n",
       "      <th>PatientId</th>\n",
       "      <th>AppointmentID</th>\n",
       "      <th>Gender</th>\n",
       "      <th>Scheduled_Day</th>\n",
       "      <th>Appointment_Day</th>\n",
       "      <th>Day_of_Appointment</th>\n",
       "      <th>Waiting_time_in_days</th>\n",
       "      <th>Age</th>\n",
       "      <th>Neighbourhood</th>\n",
       "      <th>Scholarship</th>\n",
       "      <th>Hypertension</th>\n",
       "      <th>Diabetes</th>\n",
       "      <th>Alcoholism</th>\n",
       "      <th>Handicap</th>\n",
       "      <th>SMS_received</th>\n",
       "      <th>No_show</th>\n",
       "    </tr>\n",
       "  </thead>\n",
       "  <tbody>\n",
       "    <tr>\n",
       "      <th>5</th>\n",
       "      <td>9.598513e+13</td>\n",
       "      <td>5626772</td>\n",
       "      <td>F</td>\n",
       "      <td>2016-04-27 08:36:51+00:00</td>\n",
       "      <td>2016-04-29 00:00:00+00:00</td>\n",
       "      <td>Friday</td>\n",
       "      <td>1.64</td>\n",
       "      <td>76</td>\n",
       "      <td>REPÚBLICA</td>\n",
       "      <td>No</td>\n",
       "      <td>Yes</td>\n",
       "      <td>No</td>\n",
       "      <td>No</td>\n",
       "      <td>0</td>\n",
       "      <td>No</td>\n",
       "      <td>No</td>\n",
       "    </tr>\n",
       "    <tr>\n",
       "      <th>6</th>\n",
       "      <td>7.336882e+14</td>\n",
       "      <td>5630279</td>\n",
       "      <td>F</td>\n",
       "      <td>2016-04-27 15:05:12+00:00</td>\n",
       "      <td>2016-04-29 00:00:00+00:00</td>\n",
       "      <td>Friday</td>\n",
       "      <td>1.37</td>\n",
       "      <td>23</td>\n",
       "      <td>GOIABEIRAS</td>\n",
       "      <td>No</td>\n",
       "      <td>No</td>\n",
       "      <td>No</td>\n",
       "      <td>No</td>\n",
       "      <td>0</td>\n",
       "      <td>No</td>\n",
       "      <td>Yes</td>\n",
       "    </tr>\n",
       "    <tr>\n",
       "      <th>7</th>\n",
       "      <td>3.449833e+12</td>\n",
       "      <td>5630575</td>\n",
       "      <td>F</td>\n",
       "      <td>2016-04-27 15:39:58+00:00</td>\n",
       "      <td>2016-04-29 00:00:00+00:00</td>\n",
       "      <td>Friday</td>\n",
       "      <td>1.35</td>\n",
       "      <td>39</td>\n",
       "      <td>GOIABEIRAS</td>\n",
       "      <td>No</td>\n",
       "      <td>No</td>\n",
       "      <td>No</td>\n",
       "      <td>No</td>\n",
       "      <td>0</td>\n",
       "      <td>No</td>\n",
       "      <td>Yes</td>\n",
       "    </tr>\n",
       "    <tr>\n",
       "      <th>9</th>\n",
       "      <td>7.812456e+13</td>\n",
       "      <td>5629123</td>\n",
       "      <td>F</td>\n",
       "      <td>2016-04-27 12:48:25+00:00</td>\n",
       "      <td>2016-04-29 00:00:00+00:00</td>\n",
       "      <td>Friday</td>\n",
       "      <td>1.47</td>\n",
       "      <td>19</td>\n",
       "      <td>CONQUISTA</td>\n",
       "      <td>No</td>\n",
       "      <td>No</td>\n",
       "      <td>No</td>\n",
       "      <td>No</td>\n",
       "      <td>0</td>\n",
       "      <td>No</td>\n",
       "      <td>No</td>\n",
       "    </tr>\n",
       "    <tr>\n",
       "      <th>10</th>\n",
       "      <td>7.345362e+14</td>\n",
       "      <td>5630213</td>\n",
       "      <td>F</td>\n",
       "      <td>2016-04-27 14:58:11+00:00</td>\n",
       "      <td>2016-04-29 00:00:00+00:00</td>\n",
       "      <td>Friday</td>\n",
       "      <td>1.38</td>\n",
       "      <td>30</td>\n",
       "      <td>NOVA PALESTINA</td>\n",
       "      <td>No</td>\n",
       "      <td>No</td>\n",
       "      <td>No</td>\n",
       "      <td>No</td>\n",
       "      <td>0</td>\n",
       "      <td>No</td>\n",
       "      <td>No</td>\n",
       "    </tr>\n",
       "  </tbody>\n",
       "</table>\n",
       "</div>"
      ],
      "text/plain": [
       "       PatientId  AppointmentID Gender             Scheduled_Day  \\\n",
       "5   9.598513e+13        5626772      F 2016-04-27 08:36:51+00:00   \n",
       "6   7.336882e+14        5630279      F 2016-04-27 15:05:12+00:00   \n",
       "7   3.449833e+12        5630575      F 2016-04-27 15:39:58+00:00   \n",
       "9   7.812456e+13        5629123      F 2016-04-27 12:48:25+00:00   \n",
       "10  7.345362e+14        5630213      F 2016-04-27 14:58:11+00:00   \n",
       "\n",
       "             Appointment_Day Day_of_Appointment  Waiting_time_in_days  Age  \\\n",
       "5  2016-04-29 00:00:00+00:00             Friday                  1.64   76   \n",
       "6  2016-04-29 00:00:00+00:00             Friday                  1.37   23   \n",
       "7  2016-04-29 00:00:00+00:00             Friday                  1.35   39   \n",
       "9  2016-04-29 00:00:00+00:00             Friday                  1.47   19   \n",
       "10 2016-04-29 00:00:00+00:00             Friday                  1.38   30   \n",
       "\n",
       "     Neighbourhood Scholarship Hypertension Diabetes Alcoholism Handicap  \\\n",
       "5        REPÚBLICA          No          Yes       No         No        0   \n",
       "6       GOIABEIRAS          No           No       No         No        0   \n",
       "7       GOIABEIRAS          No           No       No         No        0   \n",
       "9        CONQUISTA          No           No       No         No        0   \n",
       "10  NOVA PALESTINA          No           No       No         No        0   \n",
       "\n",
       "   SMS_received No_show  \n",
       "5            No      No  \n",
       "6            No     Yes  \n",
       "7            No     Yes  \n",
       "9            No      No  \n",
       "10           No      No  "
      ]
     },
     "execution_count": 291,
     "metadata": {},
     "output_type": "execute_result"
    }
   ],
   "source": [
    "clean_df.head()"
   ]
  },
  {
   "cell_type": "markdown",
   "id": "0ebb5937",
   "metadata": {},
   "source": [
    "### Changing the case of the neighbourhood column"
   ]
  },
  {
   "cell_type": "code",
   "execution_count": 292,
   "id": "069371e8",
   "metadata": {},
   "outputs": [],
   "source": [
    "clean_df.Neighbourhood = clean_df.Neighbourhood.str.title()"
   ]
  },
  {
   "cell_type": "code",
   "execution_count": 293,
   "id": "c99de219",
   "metadata": {},
   "outputs": [
    {
     "data": {
      "text/html": [
       "<div>\n",
       "<style scoped>\n",
       "    .dataframe tbody tr th:only-of-type {\n",
       "        vertical-align: middle;\n",
       "    }\n",
       "\n",
       "    .dataframe tbody tr th {\n",
       "        vertical-align: top;\n",
       "    }\n",
       "\n",
       "    .dataframe thead th {\n",
       "        text-align: right;\n",
       "    }\n",
       "</style>\n",
       "<table border=\"1\" class=\"dataframe\">\n",
       "  <thead>\n",
       "    <tr style=\"text-align: right;\">\n",
       "      <th></th>\n",
       "      <th>PatientId</th>\n",
       "      <th>AppointmentID</th>\n",
       "      <th>Gender</th>\n",
       "      <th>Scheduled_Day</th>\n",
       "      <th>Appointment_Day</th>\n",
       "      <th>Day_of_Appointment</th>\n",
       "      <th>Waiting_time_in_days</th>\n",
       "      <th>Age</th>\n",
       "      <th>Neighbourhood</th>\n",
       "      <th>Scholarship</th>\n",
       "      <th>Hypertension</th>\n",
       "      <th>Diabetes</th>\n",
       "      <th>Alcoholism</th>\n",
       "      <th>Handicap</th>\n",
       "      <th>SMS_received</th>\n",
       "      <th>No_show</th>\n",
       "    </tr>\n",
       "  </thead>\n",
       "  <tbody>\n",
       "    <tr>\n",
       "      <th>5</th>\n",
       "      <td>9.598513e+13</td>\n",
       "      <td>5626772</td>\n",
       "      <td>F</td>\n",
       "      <td>2016-04-27 08:36:51+00:00</td>\n",
       "      <td>2016-04-29 00:00:00+00:00</td>\n",
       "      <td>Friday</td>\n",
       "      <td>1.64</td>\n",
       "      <td>76</td>\n",
       "      <td>República</td>\n",
       "      <td>No</td>\n",
       "      <td>Yes</td>\n",
       "      <td>No</td>\n",
       "      <td>No</td>\n",
       "      <td>0</td>\n",
       "      <td>No</td>\n",
       "      <td>No</td>\n",
       "    </tr>\n",
       "    <tr>\n",
       "      <th>6</th>\n",
       "      <td>7.336882e+14</td>\n",
       "      <td>5630279</td>\n",
       "      <td>F</td>\n",
       "      <td>2016-04-27 15:05:12+00:00</td>\n",
       "      <td>2016-04-29 00:00:00+00:00</td>\n",
       "      <td>Friday</td>\n",
       "      <td>1.37</td>\n",
       "      <td>23</td>\n",
       "      <td>Goiabeiras</td>\n",
       "      <td>No</td>\n",
       "      <td>No</td>\n",
       "      <td>No</td>\n",
       "      <td>No</td>\n",
       "      <td>0</td>\n",
       "      <td>No</td>\n",
       "      <td>Yes</td>\n",
       "    </tr>\n",
       "    <tr>\n",
       "      <th>7</th>\n",
       "      <td>3.449833e+12</td>\n",
       "      <td>5630575</td>\n",
       "      <td>F</td>\n",
       "      <td>2016-04-27 15:39:58+00:00</td>\n",
       "      <td>2016-04-29 00:00:00+00:00</td>\n",
       "      <td>Friday</td>\n",
       "      <td>1.35</td>\n",
       "      <td>39</td>\n",
       "      <td>Goiabeiras</td>\n",
       "      <td>No</td>\n",
       "      <td>No</td>\n",
       "      <td>No</td>\n",
       "      <td>No</td>\n",
       "      <td>0</td>\n",
       "      <td>No</td>\n",
       "      <td>Yes</td>\n",
       "    </tr>\n",
       "    <tr>\n",
       "      <th>9</th>\n",
       "      <td>7.812456e+13</td>\n",
       "      <td>5629123</td>\n",
       "      <td>F</td>\n",
       "      <td>2016-04-27 12:48:25+00:00</td>\n",
       "      <td>2016-04-29 00:00:00+00:00</td>\n",
       "      <td>Friday</td>\n",
       "      <td>1.47</td>\n",
       "      <td>19</td>\n",
       "      <td>Conquista</td>\n",
       "      <td>No</td>\n",
       "      <td>No</td>\n",
       "      <td>No</td>\n",
       "      <td>No</td>\n",
       "      <td>0</td>\n",
       "      <td>No</td>\n",
       "      <td>No</td>\n",
       "    </tr>\n",
       "    <tr>\n",
       "      <th>10</th>\n",
       "      <td>7.345362e+14</td>\n",
       "      <td>5630213</td>\n",
       "      <td>F</td>\n",
       "      <td>2016-04-27 14:58:11+00:00</td>\n",
       "      <td>2016-04-29 00:00:00+00:00</td>\n",
       "      <td>Friday</td>\n",
       "      <td>1.38</td>\n",
       "      <td>30</td>\n",
       "      <td>Nova Palestina</td>\n",
       "      <td>No</td>\n",
       "      <td>No</td>\n",
       "      <td>No</td>\n",
       "      <td>No</td>\n",
       "      <td>0</td>\n",
       "      <td>No</td>\n",
       "      <td>No</td>\n",
       "    </tr>\n",
       "  </tbody>\n",
       "</table>\n",
       "</div>"
      ],
      "text/plain": [
       "       PatientId  AppointmentID Gender             Scheduled_Day  \\\n",
       "5   9.598513e+13        5626772      F 2016-04-27 08:36:51+00:00   \n",
       "6   7.336882e+14        5630279      F 2016-04-27 15:05:12+00:00   \n",
       "7   3.449833e+12        5630575      F 2016-04-27 15:39:58+00:00   \n",
       "9   7.812456e+13        5629123      F 2016-04-27 12:48:25+00:00   \n",
       "10  7.345362e+14        5630213      F 2016-04-27 14:58:11+00:00   \n",
       "\n",
       "             Appointment_Day Day_of_Appointment  Waiting_time_in_days  Age  \\\n",
       "5  2016-04-29 00:00:00+00:00             Friday                  1.64   76   \n",
       "6  2016-04-29 00:00:00+00:00             Friday                  1.37   23   \n",
       "7  2016-04-29 00:00:00+00:00             Friday                  1.35   39   \n",
       "9  2016-04-29 00:00:00+00:00             Friday                  1.47   19   \n",
       "10 2016-04-29 00:00:00+00:00             Friday                  1.38   30   \n",
       "\n",
       "     Neighbourhood Scholarship Hypertension Diabetes Alcoholism Handicap  \\\n",
       "5        República          No          Yes       No         No        0   \n",
       "6       Goiabeiras          No           No       No         No        0   \n",
       "7       Goiabeiras          No           No       No         No        0   \n",
       "9        Conquista          No           No       No         No        0   \n",
       "10  Nova Palestina          No           No       No         No        0   \n",
       "\n",
       "   SMS_received No_show  \n",
       "5            No      No  \n",
       "6            No     Yes  \n",
       "7            No     Yes  \n",
       "9            No      No  \n",
       "10           No      No  "
      ]
     },
     "execution_count": 293,
     "metadata": {},
     "output_type": "execute_result"
    }
   ],
   "source": [
    "clean_df.head()"
   ]
  },
  {
   "cell_type": "markdown",
   "id": "ce884bff",
   "metadata": {},
   "source": [
    "### Dropping the AppointmentID colummn since all its values are unique"
   ]
  },
  {
   "cell_type": "code",
   "execution_count": 294,
   "id": "7e4e2f01",
   "metadata": {},
   "outputs": [],
   "source": [
    "clean_df = clean_df.drop(columns='AppointmentID')"
   ]
  },
  {
   "cell_type": "code",
   "execution_count": 295,
   "id": "f2795152",
   "metadata": {},
   "outputs": [
    {
     "data": {
      "text/plain": [
       "Index(['PatientId', 'Gender', 'Scheduled_Day', 'Appointment_Day',\n",
       "       'Day_of_Appointment', 'Waiting_time_in_days', 'Age', 'Neighbourhood',\n",
       "       'Scholarship', 'Hypertension', 'Diabetes', 'Alcoholism', 'Handicap',\n",
       "       'SMS_received', 'No_show'],\n",
       "      dtype='object')"
      ]
     },
     "execution_count": 295,
     "metadata": {},
     "output_type": "execute_result"
    }
   ],
   "source": [
    "# Testing the Code \n",
    "clean_df.columns"
   ]
  },
  {
   "cell_type": "markdown",
   "id": "b385c764",
   "metadata": {},
   "source": [
    "### Storing the Dataframe in a Csv file"
   ]
  },
  {
   "cell_type": "code",
   "execution_count": 296,
   "id": "ce954ea8",
   "metadata": {},
   "outputs": [],
   "source": [
    "clean_df.to_csv('noshowappointments-may-2016.csv')"
   ]
  },
  {
   "cell_type": "markdown",
   "id": "816e2a87",
   "metadata": {},
   "source": [
    "## Exploratory Data Analysis"
   ]
  },
  {
   "cell_type": "code",
   "execution_count": 297,
   "id": "624a66f7",
   "metadata": {},
   "outputs": [
    {
     "data": {
      "text/html": [
       "<div>\n",
       "<style scoped>\n",
       "    .dataframe tbody tr th:only-of-type {\n",
       "        vertical-align: middle;\n",
       "    }\n",
       "\n",
       "    .dataframe tbody tr th {\n",
       "        vertical-align: top;\n",
       "    }\n",
       "\n",
       "    .dataframe thead th {\n",
       "        text-align: right;\n",
       "    }\n",
       "</style>\n",
       "<table border=\"1\" class=\"dataframe\">\n",
       "  <thead>\n",
       "    <tr style=\"text-align: right;\">\n",
       "      <th></th>\n",
       "      <th>PatientId</th>\n",
       "      <th>Gender</th>\n",
       "      <th>Scheduled_Day</th>\n",
       "      <th>Appointment_Day</th>\n",
       "      <th>Day_of_Appointment</th>\n",
       "      <th>Waiting_time_in_days</th>\n",
       "      <th>Age</th>\n",
       "      <th>Neighbourhood</th>\n",
       "      <th>Scholarship</th>\n",
       "      <th>Hypertension</th>\n",
       "      <th>Diabetes</th>\n",
       "      <th>Alcoholism</th>\n",
       "      <th>Handicap</th>\n",
       "      <th>SMS_received</th>\n",
       "      <th>No_show</th>\n",
       "    </tr>\n",
       "  </thead>\n",
       "  <tbody>\n",
       "    <tr>\n",
       "      <th>43174</th>\n",
       "      <td>5.326532e+13</td>\n",
       "      <td>M</td>\n",
       "      <td>2016-05-12 10:03:11+00:00</td>\n",
       "      <td>2016-05-19 00:00:00+00:00</td>\n",
       "      <td>Thursday</td>\n",
       "      <td>6.58</td>\n",
       "      <td>14</td>\n",
       "      <td>Praia Do Suá</td>\n",
       "      <td>No</td>\n",
       "      <td>No</td>\n",
       "      <td>No</td>\n",
       "      <td>No</td>\n",
       "      <td>0</td>\n",
       "      <td>No</td>\n",
       "      <td>No</td>\n",
       "    </tr>\n",
       "    <tr>\n",
       "      <th>25917</th>\n",
       "      <td>6.335866e+12</td>\n",
       "      <td>F</td>\n",
       "      <td>2016-05-09 14:08:13+00:00</td>\n",
       "      <td>2016-05-11 00:00:00+00:00</td>\n",
       "      <td>Wednesday</td>\n",
       "      <td>1.41</td>\n",
       "      <td>39</td>\n",
       "      <td>Estrelinha</td>\n",
       "      <td>No</td>\n",
       "      <td>No</td>\n",
       "      <td>No</td>\n",
       "      <td>No</td>\n",
       "      <td>0</td>\n",
       "      <td>No</td>\n",
       "      <td>No</td>\n",
       "    </tr>\n",
       "    <tr>\n",
       "      <th>42104</th>\n",
       "      <td>6.265618e+13</td>\n",
       "      <td>F</td>\n",
       "      <td>2016-05-05 16:10:34+00:00</td>\n",
       "      <td>2016-05-30 00:00:00+00:00</td>\n",
       "      <td>Monday</td>\n",
       "      <td>24.33</td>\n",
       "      <td>54</td>\n",
       "      <td>Jabour</td>\n",
       "      <td>Yes</td>\n",
       "      <td>No</td>\n",
       "      <td>No</td>\n",
       "      <td>No</td>\n",
       "      <td>0</td>\n",
       "      <td>Yes</td>\n",
       "      <td>No</td>\n",
       "    </tr>\n",
       "    <tr>\n",
       "      <th>98767</th>\n",
       "      <td>6.197794e+14</td>\n",
       "      <td>F</td>\n",
       "      <td>2016-05-19 10:27:02+00:00</td>\n",
       "      <td>2016-06-03 00:00:00+00:00</td>\n",
       "      <td>Friday</td>\n",
       "      <td>14.56</td>\n",
       "      <td>63</td>\n",
       "      <td>Caratoíra</td>\n",
       "      <td>No</td>\n",
       "      <td>Yes</td>\n",
       "      <td>No</td>\n",
       "      <td>No</td>\n",
       "      <td>0</td>\n",
       "      <td>Yes</td>\n",
       "      <td>No</td>\n",
       "    </tr>\n",
       "    <tr>\n",
       "      <th>36625</th>\n",
       "      <td>7.779736e+13</td>\n",
       "      <td>F</td>\n",
       "      <td>2016-05-25 07:36:20+00:00</td>\n",
       "      <td>2016-05-30 00:00:00+00:00</td>\n",
       "      <td>Monday</td>\n",
       "      <td>4.68</td>\n",
       "      <td>77</td>\n",
       "      <td>Resistência</td>\n",
       "      <td>No</td>\n",
       "      <td>No</td>\n",
       "      <td>No</td>\n",
       "      <td>No</td>\n",
       "      <td>0</td>\n",
       "      <td>No</td>\n",
       "      <td>No</td>\n",
       "    </tr>\n",
       "    <tr>\n",
       "      <th>60522</th>\n",
       "      <td>4.182235e+13</td>\n",
       "      <td>M</td>\n",
       "      <td>2016-04-15 10:14:28+00:00</td>\n",
       "      <td>2016-05-03 00:00:00+00:00</td>\n",
       "      <td>Tuesday</td>\n",
       "      <td>17.57</td>\n",
       "      <td>9</td>\n",
       "      <td>Itararé</td>\n",
       "      <td>No</td>\n",
       "      <td>No</td>\n",
       "      <td>No</td>\n",
       "      <td>No</td>\n",
       "      <td>0</td>\n",
       "      <td>Yes</td>\n",
       "      <td>No</td>\n",
       "    </tr>\n",
       "    <tr>\n",
       "      <th>20806</th>\n",
       "      <td>6.928260e+14</td>\n",
       "      <td>F</td>\n",
       "      <td>2016-05-25 12:55:30+00:00</td>\n",
       "      <td>2016-05-31 00:00:00+00:00</td>\n",
       "      <td>Tuesday</td>\n",
       "      <td>5.46</td>\n",
       "      <td>74</td>\n",
       "      <td>Maruípe</td>\n",
       "      <td>No</td>\n",
       "      <td>Yes</td>\n",
       "      <td>No</td>\n",
       "      <td>No</td>\n",
       "      <td>0</td>\n",
       "      <td>Yes</td>\n",
       "      <td>Yes</td>\n",
       "    </tr>\n",
       "    <tr>\n",
       "      <th>22207</th>\n",
       "      <td>8.644588e+13</td>\n",
       "      <td>F</td>\n",
       "      <td>2016-05-09 07:30:30+00:00</td>\n",
       "      <td>2016-05-12 00:00:00+00:00</td>\n",
       "      <td>Thursday</td>\n",
       "      <td>2.69</td>\n",
       "      <td>35</td>\n",
       "      <td>Ilha Das Caieiras</td>\n",
       "      <td>Yes</td>\n",
       "      <td>No</td>\n",
       "      <td>No</td>\n",
       "      <td>No</td>\n",
       "      <td>0</td>\n",
       "      <td>Yes</td>\n",
       "      <td>No</td>\n",
       "    </tr>\n",
       "    <tr>\n",
       "      <th>86946</th>\n",
       "      <td>6.458917e+13</td>\n",
       "      <td>F</td>\n",
       "      <td>2016-06-07 14:48:24+00:00</td>\n",
       "      <td>2016-06-08 00:00:00+00:00</td>\n",
       "      <td>Wednesday</td>\n",
       "      <td>0.38</td>\n",
       "      <td>18</td>\n",
       "      <td>Praia Do Suá</td>\n",
       "      <td>No</td>\n",
       "      <td>No</td>\n",
       "      <td>No</td>\n",
       "      <td>No</td>\n",
       "      <td>0</td>\n",
       "      <td>No</td>\n",
       "      <td>No</td>\n",
       "    </tr>\n",
       "    <tr>\n",
       "      <th>70302</th>\n",
       "      <td>6.895214e+14</td>\n",
       "      <td>F</td>\n",
       "      <td>2016-05-11 15:41:04+00:00</td>\n",
       "      <td>2016-05-19 00:00:00+00:00</td>\n",
       "      <td>Thursday</td>\n",
       "      <td>7.35</td>\n",
       "      <td>22</td>\n",
       "      <td>Centro</td>\n",
       "      <td>No</td>\n",
       "      <td>No</td>\n",
       "      <td>No</td>\n",
       "      <td>No</td>\n",
       "      <td>0</td>\n",
       "      <td>No</td>\n",
       "      <td>Yes</td>\n",
       "    </tr>\n",
       "  </tbody>\n",
       "</table>\n",
       "</div>"
      ],
      "text/plain": [
       "          PatientId Gender             Scheduled_Day  \\\n",
       "43174  5.326532e+13      M 2016-05-12 10:03:11+00:00   \n",
       "25917  6.335866e+12      F 2016-05-09 14:08:13+00:00   \n",
       "42104  6.265618e+13      F 2016-05-05 16:10:34+00:00   \n",
       "98767  6.197794e+14      F 2016-05-19 10:27:02+00:00   \n",
       "36625  7.779736e+13      F 2016-05-25 07:36:20+00:00   \n",
       "60522  4.182235e+13      M 2016-04-15 10:14:28+00:00   \n",
       "20806  6.928260e+14      F 2016-05-25 12:55:30+00:00   \n",
       "22207  8.644588e+13      F 2016-05-09 07:30:30+00:00   \n",
       "86946  6.458917e+13      F 2016-06-07 14:48:24+00:00   \n",
       "70302  6.895214e+14      F 2016-05-11 15:41:04+00:00   \n",
       "\n",
       "                Appointment_Day Day_of_Appointment  Waiting_time_in_days  Age  \\\n",
       "43174 2016-05-19 00:00:00+00:00           Thursday                  6.58   14   \n",
       "25917 2016-05-11 00:00:00+00:00          Wednesday                  1.41   39   \n",
       "42104 2016-05-30 00:00:00+00:00             Monday                 24.33   54   \n",
       "98767 2016-06-03 00:00:00+00:00             Friday                 14.56   63   \n",
       "36625 2016-05-30 00:00:00+00:00             Monday                  4.68   77   \n",
       "60522 2016-05-03 00:00:00+00:00            Tuesday                 17.57    9   \n",
       "20806 2016-05-31 00:00:00+00:00            Tuesday                  5.46   74   \n",
       "22207 2016-05-12 00:00:00+00:00           Thursday                  2.69   35   \n",
       "86946 2016-06-08 00:00:00+00:00          Wednesday                  0.38   18   \n",
       "70302 2016-05-19 00:00:00+00:00           Thursday                  7.35   22   \n",
       "\n",
       "           Neighbourhood Scholarship Hypertension Diabetes Alcoholism  \\\n",
       "43174       Praia Do Suá          No           No       No         No   \n",
       "25917         Estrelinha          No           No       No         No   \n",
       "42104             Jabour         Yes           No       No         No   \n",
       "98767          Caratoíra          No          Yes       No         No   \n",
       "36625        Resistência          No           No       No         No   \n",
       "60522            Itararé          No           No       No         No   \n",
       "20806            Maruípe          No          Yes       No         No   \n",
       "22207  Ilha Das Caieiras         Yes           No       No         No   \n",
       "86946       Praia Do Suá          No           No       No         No   \n",
       "70302             Centro          No           No       No         No   \n",
       "\n",
       "      Handicap SMS_received No_show  \n",
       "43174        0           No      No  \n",
       "25917        0           No      No  \n",
       "42104        0          Yes      No  \n",
       "98767        0          Yes      No  \n",
       "36625        0           No      No  \n",
       "60522        0          Yes      No  \n",
       "20806        0          Yes     Yes  \n",
       "22207        0          Yes      No  \n",
       "86946        0           No      No  \n",
       "70302        0           No     Yes  "
      ]
     },
     "execution_count": 297,
     "metadata": {},
     "output_type": "execute_result"
    }
   ],
   "source": [
    "clean_df.sample(10)"
   ]
  },
  {
   "cell_type": "markdown",
   "id": "79097cd4",
   "metadata": {},
   "source": [
    "### What is the percentage of each gender?"
   ]
  },
  {
   "cell_type": "code",
   "execution_count": 298,
   "id": "938e1ba5",
   "metadata": {},
   "outputs": [
    {
     "data": {
      "image/png": "[encoded data removed]",
      "text/plain": [
       "<Figure size 432x288 with 1 Axes>"
      ]
     },
     "metadata": {},
     "output_type": "display_data"
    }
   ],
   "source": [
    "gender = clean_df.Gender.value_counts()\n",
    "plt.pie(gender,\n",
    "       labels=['Female','Male'],\n",
    "       autopct='%1.1f%%',\n",
    "       shadow=False,\n",
    "       explode=(0.1,0)\n",
    "       )\n",
    "plt.title(\"Patient's Gender\",fontweight = 'bold')\n",
    "plt.axis('equal');"
   ]
  },
  {
   "cell_type": "markdown",
   "id": "ed410fed",
   "metadata": {},
   "source": [
    "The female gender had more appointments than the male"
   ]
  },
  {
   "cell_type": "markdown",
   "id": "1e1268df",
   "metadata": {},
   "source": [
    "### What is the ratio of alcohol takers to non-alcohol takers?"
   ]
  },
  {
   "cell_type": "code",
   "execution_count": 299,
   "id": "56e48f80",
   "metadata": {},
   "outputs": [
    {
     "data": {
      "image/png": "[encoded data removed]",
      "text/plain": [
       "<Figure size 432x288 with 1 Axes>"
      ]
     },
     "metadata": {},
     "output_type": "display_data"
    }
   ],
   "source": [
    "alcohol = clean_df.Alcoholism.value_counts()\n",
    "plt.pie(alcohol,\n",
    "       labels=['No','Yes'],\n",
    "       autopct='%1.1f%%',\n",
    "       shadow=False,\n",
    "       explode=(0.1,0)\n",
    "       )\n",
    "plt.title(\"Percentage Of Patient's that consume alcohol\",fontweight = 'bold')\n",
    "plt.axis('equal');"
   ]
  },
  {
   "cell_type": "markdown",
   "id": "d3bd8bfd",
   "metadata": {},
   "source": [
    "Very few patients consume alcohol"
   ]
  },
  {
   "cell_type": "markdown",
   "id": "b2e21fbd",
   "metadata": {},
   "source": [
    "### What percent of patients received an sms?"
   ]
  },
  {
   "cell_type": "code",
   "execution_count": 300,
   "id": "9968e026",
   "metadata": {},
   "outputs": [
    {
     "data": {
      "image/png": "[encoded data removed]",
      "text/plain": [
       "<Figure size 432x288 with 1 Axes>"
      ]
     },
     "metadata": {},
     "output_type": "display_data"
    }
   ],
   "source": [
    "sms = clean_df.SMS_received.value_counts()\n",
    "plt.pie(sms,\n",
    "       labels=['No','Yes'],\n",
    "       autopct='%1.1f%%',\n",
    "       shadow=False,\n",
    "       explode=(0,0)\n",
    "       )\n",
    "plt.title(\"SMS received\")\n",
    "plt.axis('equal');"
   ]
  },
  {
   "cell_type": "markdown",
   "id": "abe8dd87",
   "metadata": {},
   "source": [
    "Almost half of the patients received an email from the hospital"
   ]
  },
  {
   "cell_type": "markdown",
   "id": "70f152dc",
   "metadata": {},
   "source": [
    "### What percent of the patients completed the medical process?"
   ]
  },
  {
   "cell_type": "code",
   "execution_count": 301,
   "id": "da138878",
   "metadata": {},
   "outputs": [
    {
     "data": {
      "image/png": "[encoded data removed]",
      "text/plain": [
       "<Figure size 432x288 with 1 Axes>"
      ]
     },
     "metadata": {},
     "output_type": "display_data"
    }
   ],
   "source": [
    "sho = clean_df.No_show.value_counts()\n",
    "plt.pie(sho,\n",
    "       labels=['No','Yes'],\n",
    "       autopct='%1.1f%%',\n",
    "       shadow=False,\n",
    "       explode=(0,0)\n",
    "       )\n",
    "plt.title(\"Patient's Completion Status\")\n",
    "plt.axis('equal');"
   ]
  },
  {
   "cell_type": "markdown",
   "id": "a3362ed8",
   "metadata": {},
   "source": [
    "Most patients did not complete the medical process"
   ]
  },
  {
   "cell_type": "markdown",
   "id": "6673c037",
   "metadata": {},
   "source": [
    "### Which Age group is the most common age group among patients?"
   ]
  },
  {
   "cell_type": "code",
   "execution_count": 302,
   "id": "eb68d40a",
   "metadata": {},
   "outputs": [
    {
     "data": {
      "image/png": "[encoded data removed]",
      "text/plain": [
       "<Figure size 1080x576 with 1 Axes>"
      ]
     },
     "metadata": {
      "needs_background": "light"
     },
     "output_type": "display_data"
    }
   ],
   "source": [
    "plt.figure(figsize=[15,8])\n",
    "bins=np.arange(0,103,1)\n",
    "ticks = [0,5,10,15,20,25,30,35,40,45,50,55,60,65,70,75,80,85,90,95,100]\n",
    "labels=['{}'.format(v) for v in ticks]\n",
    "\n",
    "plt.hist(data=clean_df,x='Age',bins=bins,rwidth=0.8)\n",
    "plt.title(\"Patient's Age Distribution\",y=1 ,fontweight = 'bold')\n",
    "plt.xlabel('Age',fontweight = 'bold')\n",
    "plt.ylabel('Age Frequency',fontweight = 'bold')\n",
    "plt.xticks(ticks,labels);"
   ]
  },
  {
   "cell_type": "markdown",
   "id": "12acd14e",
   "metadata": {},
   "source": [
    "The data is almost randomly distributed because at the extreme right side the data is skewed"
   ]
  },
  {
   "cell_type": "code",
   "execution_count": 303,
   "id": "779ea44e",
   "metadata": {},
   "outputs": [
    {
     "data": {
      "image/png": "[encoded data removed]",
      "text/plain": [
       "<Figure size 1080x576 with 1 Axes>"
      ]
     },
     "metadata": {
      "needs_background": "light"
     },
     "output_type": "display_data"
    }
   ],
   "source": [
    "plt.figure(figsize=[15,8])\n",
    "bins=np.arange(0,61,1)\n",
    "ticks = [0,5,10,15,20,25,30,35,40,45,50,55,60]\n",
    "labels=['{}'.format(v) for v in ticks]\n",
    "\n",
    "plt.hist(data=clean_df.query('Age <= 60'),x='Age',bins=bins,rwidth=0.8)\n",
    "plt.title(\"Patient's Age Distribution\",y=1 ,fontweight = 'bold')\n",
    "plt.xlabel('Age',fontweight = 'bold')\n",
    "plt.ylabel('Age Frequency',fontweight = 'bold')\n",
    "plt.xticks(ticks,labels);"
   ]
  },
  {
   "cell_type": "code",
   "execution_count": 304,
   "id": "d25d6800",
   "metadata": {},
   "outputs": [
    {
     "data": {
      "image/png": "[encoded data removed]",
      "text/plain": [
       "<Figure size 1080x576 with 1 Axes>"
      ]
     },
     "metadata": {
      "needs_background": "light"
     },
     "output_type": "display_data"
    }
   ],
   "source": [
    "plt.figure(figsize=[15,8])\n",
    "bins=np.arange(0,66,1)\n",
    "ticks = [0,5,10,15,20,25,30,35,40,45,50,55,60,65]\n",
    "labels=['{}'.format(v) for v in ticks]\n",
    "\n",
    "plt.hist(data=clean_df.query('Age <= 65'),x='Age',bins=bins,rwidth=0.8)\n",
    "plt.title(\"Patient's Age Distribution\",y=1 ,fontweight = 'bold')\n",
    "plt.xlabel('Age',fontweight = 'bold')\n",
    "plt.ylabel('Age Frequency',fontweight = 'bold')\n",
    "plt.xticks(ticks,labels);"
   ]
  },
  {
   "cell_type": "code",
   "execution_count": 305,
   "id": "3987ea30",
   "metadata": {},
   "outputs": [
    {
     "data": {
      "image/png": "[encoded data removed]",
      "text/plain": [
       "<Figure size 1080x576 with 1 Axes>"
      ]
     },
     "metadata": {
      "needs_background": "light"
     },
     "output_type": "display_data"
    }
   ],
   "source": [
    "plt.figure(figsize=[15,8])\n",
    "bins=np.arange(0,81,1)\n",
    "ticks = [0,5,10,15,20,25,30,35,40,45,50,55,60,65,70]\n",
    "labels=['{}'.format(v) for v in ticks]\n",
    "\n",
    "plt.hist(data=clean_df.query('Age <= 70'),x='Age',bins=bins,rwidth=0.8)\n",
    "plt.title(\"Patient's Age Distribution\",y=1 ,fontweight = 'bold')\n",
    "plt.xlabel('Age',fontweight = 'bold')\n",
    "plt.ylabel('Age Frequency',fontweight = 'bold')\n",
    "plt.xticks(ticks,labels);"
   ]
  },
  {
   "cell_type": "markdown",
   "id": "400dca64",
   "metadata": {},
   "source": [
    "From the histograms above due to the different boundaries set we can see that the highest peak of this distribution is between the 0-5 age mark "
   ]
  },
  {
   "cell_type": "markdown",
   "id": "bc7b9c6c",
   "metadata": {},
   "source": [
    "### What was the most common time range that patients had to wait   "
   ]
  },
  {
   "cell_type": "code",
   "execution_count": 306,
   "id": "bc53be62",
   "metadata": {},
   "outputs": [
    {
     "data": {
      "image/png": "[encoded data removed]",
      "text/plain": [
       "<Figure size 1080x576 with 1 Axes>"
      ]
     },
     "metadata": {
      "needs_background": "light"
     },
     "output_type": "display_data"
    }
   ],
   "source": [
    "plt.figure(figsize=[15,8])\n",
    "bins=np.arange(0,90,1)\n",
    "ticks = [0,5,10,15,20,25,30,35,40,45,50,55,60,65,70,75,80,85,90,95,100]\n",
    "labels=['{}'.format(v) for v in ticks]\n",
    "\n",
    "plt.hist(data=clean_df,x='Waiting_time_in_days',bins=bins,rwidth=0.8)\n",
    "plt.title(\"Daily Waiting Time Distribution\",y=1 ,fontweight = 'bold')\n",
    "plt.xlabel('Waiting Time in days',fontweight = 'bold')\n",
    "plt.ylabel('Daily Waiting Time Frequency',fontweight = 'bold')\n",
    "plt.xticks(ticks,labels);"
   ]
  },
  {
   "cell_type": "markdown",
   "id": "542114ad",
   "metadata": {},
   "source": [
    "The data distribution is right skewed hinting that most patients didnt have to wait long after their scheduled appointment"
   ]
  },
  {
   "cell_type": "markdown",
   "id": "dd766595",
   "metadata": {},
   "source": [
    "### What is the relationship between the handicap patients and the time they wait for their appointments?"
   ]
  },
  {
   "cell_type": "code",
   "execution_count": 307,
   "id": "5eca499f",
   "metadata": {},
   "outputs": [
    {
     "data": {
      "text/plain": [
       "<AxesSubplot:xlabel='Waiting_time_in_days', ylabel='Handicap'>"
      ]
     },
     "execution_count": 307,
     "metadata": {},
     "output_type": "execute_result"
    },
    {
     "data": {
      "image/png": "[encoded data removed]",
      "text/plain": [
       "<Figure size 432x288 with 1 Axes>"
      ]
     },
     "metadata": {
      "needs_background": "light"
     },
     "output_type": "display_data"
    }
   ],
   "source": [
    "sb.violinplot(x=clean_df.Waiting_time_in_days,y=clean_df.Handicap)"
   ]
  },
  {
   "cell_type": "markdown",
   "id": "8d38779a",
   "metadata": {},
   "source": [
    "The non-handicap patients wait a longer time than the handicap patients and the patients with more severe disabilities do not wait too long to get attended\n",
    "As the severity of the disability increases the waiting time decreases"
   ]
  },
  {
   "cell_type": "markdown",
   "id": "82c31f30",
   "metadata": {},
   "source": [
    "### What is the relationship between the scholars and the waiting time?"
   ]
  },
  {
   "cell_type": "code",
   "execution_count": 308,
   "id": "cb929b7c",
   "metadata": {},
   "outputs": [
    {
     "data": {
      "image/png": "[encoded data removed]",
      "text/plain": [
       "<Figure size 432x288 with 1 Axes>"
      ]
     },
     "metadata": {
      "needs_background": "light"
     },
     "output_type": "display_data"
    }
   ],
   "source": [
    "sb.violinplot(x=clean_df.Waiting_time_in_days,y=clean_df.Scholarship);"
   ]
  },
  {
   "cell_type": "code",
   "execution_count": 309,
   "id": "a00f725d",
   "metadata": {},
   "outputs": [
    {
     "data": {
      "text/plain": [
       "<AxesSubplot:xlabel='Scholarship', ylabel='Waiting_time_in_days'>"
      ]
     },
     "execution_count": 309,
     "metadata": {},
     "output_type": "execute_result"
    },
    {
     "data": {
      "image/png": "[encoded data removed]",
      "text/plain": [
       "<Figure size 1080x648 with 1 Axes>"
      ]
     },
     "metadata": {
      "needs_background": "light"
     },
     "output_type": "display_data"
    }
   ],
   "source": [
    "plt.figure(figsize=[15,9])\n",
    "base_color=sb.color_palette()[3]\n",
    "sb.pointplot(data = clean_df, x='Scholarship',y = 'Waiting_time_in_days', kind = 'Point')\n",
    "\n"
   ]
  },
  {
   "cell_type": "markdown",
   "id": "e48f6f14",
   "metadata": {},
   "source": [
    "The Scholars wait a shorter time "
   ]
  },
  {
   "cell_type": "markdown",
   "id": "449cc80c",
   "metadata": {},
   "source": [
    "### What is the relationship between the gender and waiting time?"
   ]
  },
  {
   "cell_type": "code",
   "execution_count": 310,
   "id": "c6f24f66",
   "metadata": {},
   "outputs": [
    {
     "data": {
      "text/plain": [
       "<AxesSubplot:xlabel='Waiting_time_in_days', ylabel='Gender'>"
      ]
     },
     "execution_count": 310,
     "metadata": {},
     "output_type": "execute_result"
    },
    {
     "data": {
      "image/png": "[encoded data removed]",
      "text/plain": [
       "<Figure size 432x288 with 1 Axes>"
      ]
     },
     "metadata": {
      "needs_background": "light"
     },
     "output_type": "display_data"
    }
   ],
   "source": [
    "sb.boxplot(x=clean_df.Waiting_time_in_days,y=clean_df.Gender)"
   ]
  },
  {
   "cell_type": "code",
   "execution_count": 311,
   "id": "8bc530fe",
   "metadata": {},
   "outputs": [
    {
     "data": {
      "image/png": "[encoded data removed]",
      "text/plain": [
       "<Figure size 1080x648 with 1 Axes>"
      ]
     },
     "metadata": {
      "needs_background": "light"
     },
     "output_type": "display_data"
    }
   ],
   "source": [
    "plt.figure(figsize=[15,9])\n",
    "base_color=sb.color_palette()[3]\n",
    "sb.pointplot(data = clean_df, x='Gender',y = 'Waiting_time_in_days', kind = 'Point')\n",
    "plt.xlabel('Gender')\n",
    "plt.ylabel('Waiting time in days')\n",
    "plt.title('Average time in days for each gender',fontweight = 'bold');\n"
   ]
  },
  {
   "cell_type": "markdown",
   "id": "d8f5de23",
   "metadata": {},
   "source": [
    "Male patients spend lesser time waiting time than the female patients"
   ]
  },
  {
   "cell_type": "markdown",
   "id": "04de8bcc",
   "metadata": {},
   "source": [
    "### Which day of the week is the most frequent for appointments?"
   ]
  },
  {
   "cell_type": "code",
   "execution_count": 312,
   "id": "3acf4f87",
   "metadata": {},
   "outputs": [
    {
     "data": {
      "text/plain": [
       "<AxesSubplot:xlabel='count', ylabel='Day_of_Appointment'>"
      ]
     },
     "execution_count": 312,
     "metadata": {},
     "output_type": "execute_result"
    },
    {
     "data": {
      "image/png": "[encoded data removed]",
      "text/plain": [
       "<Figure size 432x288 with 1 Axes>"
      ]
     },
     "metadata": {
      "needs_background": "light"
     },
     "output_type": "display_data"
    }
   ],
   "source": [
    "base_color=sb.color_palette()[3]\n",
    "orders = clean_df.Day_of_Appointment.value_counts().index\n",
    "sb.countplot(y='Day_of_Appointment',data = clean_df,color = base_color ,order = orders)"
   ]
  },
  {
   "cell_type": "markdown",
   "id": "fa874d62",
   "metadata": {},
   "source": [
    "Wednesday is the most frequent day for appointments while very few appointments were on Saturday though there was no appointment on Sunday hinting the hospital was either closed or only open for emergencies on Sunday"
   ]
  },
  {
   "cell_type": "markdown",
   "id": "ca51b42f",
   "metadata": {},
   "source": [
    "### Relationship between the gender of patients and handicap patients?"
   ]
  },
  {
   "cell_type": "code",
   "execution_count": 313,
   "id": "c0861f3c",
   "metadata": {},
   "outputs": [
    {
     "data": {
      "image/png": "[encoded data removed]",
      "text/plain": [
       "<Figure size 1080x576 with 1 Axes>"
      ]
     },
     "metadata": {
      "needs_background": "light"
     },
     "output_type": "display_data"
    }
   ],
   "source": [
    "plt.figure(figsize=[15,8])\n",
    "\n",
    "sb.countplot(data= clean_df ,hue ='Handicap', x='Gender');\n",
    "plt.title('Patients with disabilities',y=1 ,fontweight = 'bold')\n",
    "plt.xlabel('Severity of Handicap',fontweight = 'bold')\n",
    "plt.ylabel('Number of such cases',fontweight = 'bold');\n"
   ]
  },
  {
   "cell_type": "markdown",
   "id": "34ae2bfc",
   "metadata": {},
   "source": [
    " Most male and female patients were not handicapped while there was still a greater number of handicapped female than male"
   ]
  },
  {
   "cell_type": "markdown",
   "id": "fcbd5e43",
   "metadata": {},
   "source": [
    "### Which gender did not complete the medical process the most?"
   ]
  },
  {
   "cell_type": "code",
   "execution_count": 314,
   "id": "9386bb84",
   "metadata": {},
   "outputs": [
    {
     "data": {
      "image/png": "[encoded data removed]",
      "text/plain": [
       "<Figure size 1080x576 with 1 Axes>"
      ]
     },
     "metadata": {
      "needs_background": "light"
     },
     "output_type": "display_data"
    }
   ],
   "source": [
    "plt.figure(figsize=[15,8])\n",
    "\n",
    "sb.countplot(data= clean_df ,hue ='Gender', x='No_show');\n",
    "plt.title('Completion status',y=1 ,fontweight = 'bold')\n",
    "plt.xlabel('No_show',fontweight = 'bold')\n",
    "plt.ylabel('Number of such cases',fontweight = 'bold');\n"
   ]
  },
  {
   "cell_type": "markdown",
   "id": "b73b49d8",
   "metadata": {},
   "source": [
    "Female patients did not complete their medical process the most"
   ]
  },
  {
   "cell_type": "code",
   "execution_count": null,
   "id": "62162e7b",
   "metadata": {},
   "outputs": [],
   "source": []
  }
 ],
 "metadata": {
  "kernelspec": {
   "display_name": "Python 3 (ipykernel)",
   "language": "python",
   "name": "python3"
  },
  "language_info": {
   "codemirror_mode": {
    "name": "ipython",
    "version": 3
   },
   "file_extension": ".py",
   "mimetype": "text/x-python",
   "name": "python",
   "nbconvert_exporter": "python",
   "pygments_lexer": "ipython3",
   "version": "3.9.12"
  }
 },
 "nbformat": 4,
 "nbformat_minor": 5
}
