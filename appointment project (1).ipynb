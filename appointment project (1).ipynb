{
 "cells": [
  {
   "cell_type": "markdown",
   "id": "fed6d24d",
   "metadata": {},
   "source": [
    "# project: investigate No Show Appointment Dataset"
   ]
  },
  {
   "cell_type": "markdown",
   "id": "360c6d97",
   "metadata": {},
   "source": [
    "## Introduction\n",
    "This dataset collects information from 100k medical appointments in Brazil and is focused on the question of whether or not patients show up for their appointment. We are trying to predict the most important factors that affect the atendance of the patient\n",
    "\n",
    " **Dataset columns descriptions:**\n",
    "\n",
    "\n",
    " * PatientId - Patient identification.\n",
    " * AppointmentID - Appointment identification. \n",
    " * Gender -  Patient gender (Male or Female).\n",
    " * ScheduledDay - The day patient set up their appointment.\n",
    " * AppointmentDay - The day of actual appointment when patient have to visit the doctor.\n",
    " * Age - patient Age\n",
    " * Neighbourhood - Hospital location.\n",
    " * Scholarship - Indicates whether or not the patient is enrolled in Brasilian welfare program Bolsa Família(0 for no & 1 for Yes).\n",
    " * Hipertension - Indicates whether or not the patient has hypertension or not(0 for no & 1 for Yes).\n",
    " * Diabetes - Indicates whether or not the patient has diabetes or not (0 for no & 1 for Yes).\n",
    " * Alcoholism - Indicates whether or not the patient has alcoholism or not (0 for no & 1 for Yes).\n",
    " * Handicap - Indicates whether or not the patient has handicap or not (on scale from 0 to 4 )\n",
    " * SMS_received = Indicates whether or not the patient received SMS (0 for no & 1 for Yes)\n",
    " * No-show = Indicates whether or not the patient attend the appointment(Yes for didn't show, No for show)\n",
    " \n",
    "questions we can ask to explore the data:\n",
    "* What is the percentage of each gender?\n",
    "* What is the ratio of alcohol takers to non-alcohol takers?\n",
    "* What percent of patients received an sms?\n",
    "* What percent of the patients completed the medical process?\n",
    "* Which Age group is the most common age group among patients?\n",
    "* What was the most common time range that patients had to wait?\n",
    "* What is the relationship between the handicap patients and the time they wait for their appointments?\n",
    "* What is the relationship between the scholars and the waiting time?\n",
    "* What is the relationship between the gender and waiting time?\n",
    "* Which day of the week is the most frequent for appointments?\n",
    "* Relationship between the gender of patients and handicap patients?\n",
    "* \n"
   ]
  },
  {
   "cell_type": "code",
   "execution_count": 1,
   "id": "401ad537",
   "metadata": {},
   "outputs": [],
   "source": [
    "# Importing the necessary libraries\n",
    "import pandas as pd\n",
    "import numpy as np\n",
    "import seaborn as sb\n",
    "import matplotlib.pyplot as plt\n",
    "\n",
    "%matplotlib inline "
   ]
  },
  {
   "cell_type": "markdown",
   "id": "7c71ab4f",
   "metadata": {},
   "source": [
    "## ACCESSING THE DATA"
   ]
  },
  {
   "cell_type": "code",
   "execution_count": 2,
   "id": "39f40eac",
   "metadata": {},
   "outputs": [
    {
     "data": {
      "text/html": [
       "<div>\n",
       "<style scoped>\n",
       "    .dataframe tbody tr th:only-of-type {\n",
       "        vertical-align: middle;\n",
       "    }\n",
       "\n",
       "    .dataframe tbody tr th {\n",
       "        vertical-align: top;\n",
       "    }\n",
       "\n",
       "    .dataframe thead th {\n",
       "        text-align: right;\n",
       "    }\n",
       "</style>\n",
       "<table border=\"1\" class=\"dataframe\">\n",
       "  <thead>\n",
       "    <tr style=\"text-align: right;\">\n",
       "      <th></th>\n",
       "      <th>PatientId</th>\n",
       "      <th>AppointmentID</th>\n",
       "      <th>Gender</th>\n",
       "      <th>ScheduledDay</th>\n",
       "      <th>AppointmentDay</th>\n",
       "      <th>Age</th>\n",
       "      <th>Neighbourhood</th>\n",
       "      <th>Scholarship</th>\n",
       "      <th>Hipertension</th>\n",
       "      <th>Diabetes</th>\n",
       "      <th>Alcoholism</th>\n",
       "      <th>Handcap</th>\n",
       "      <th>SMS_received</th>\n",
       "      <th>No-show</th>\n",
       "    </tr>\n",
       "  </thead>\n",
       "  <tbody>\n",
       "    <tr>\n",
       "      <th>0</th>\n",
       "      <td>2.987250e+13</td>\n",
       "      <td>5642903</td>\n",
       "      <td>F</td>\n",
       "      <td>2016-04-29T18:38:08Z</td>\n",
       "      <td>2016-04-29T00:00:00Z</td>\n",
       "      <td>62</td>\n",
       "      <td>JARDIM DA PENHA</td>\n",
       "      <td>0</td>\n",
       "      <td>1</td>\n",
       "      <td>0</td>\n",
       "      <td>0</td>\n",
       "      <td>0</td>\n",
       "      <td>0</td>\n",
       "      <td>No</td>\n",
       "    </tr>\n",
       "    <tr>\n",
       "      <th>1</th>\n",
       "      <td>5.589978e+14</td>\n",
       "      <td>5642503</td>\n",
       "      <td>M</td>\n",
       "      <td>2016-04-29T16:08:27Z</td>\n",
       "      <td>2016-04-29T00:00:00Z</td>\n",
       "      <td>56</td>\n",
       "      <td>JARDIM DA PENHA</td>\n",
       "      <td>0</td>\n",
       "      <td>0</td>\n",
       "      <td>0</td>\n",
       "      <td>0</td>\n",
       "      <td>0</td>\n",
       "      <td>0</td>\n",
       "      <td>No</td>\n",
       "    </tr>\n",
       "    <tr>\n",
       "      <th>2</th>\n",
       "      <td>4.262962e+12</td>\n",
       "      <td>5642549</td>\n",
       "      <td>F</td>\n",
       "      <td>2016-04-29T16:19:04Z</td>\n",
       "      <td>2016-04-29T00:00:00Z</td>\n",
       "      <td>62</td>\n",
       "      <td>MATA DA PRAIA</td>\n",
       "      <td>0</td>\n",
       "      <td>0</td>\n",
       "      <td>0</td>\n",
       "      <td>0</td>\n",
       "      <td>0</td>\n",
       "      <td>0</td>\n",
       "      <td>No</td>\n",
       "    </tr>\n",
       "    <tr>\n",
       "      <th>3</th>\n",
       "      <td>8.679512e+11</td>\n",
       "      <td>5642828</td>\n",
       "      <td>F</td>\n",
       "      <td>2016-04-29T17:29:31Z</td>\n",
       "      <td>2016-04-29T00:00:00Z</td>\n",
       "      <td>8</td>\n",
       "      <td>PONTAL DE CAMBURI</td>\n",
       "      <td>0</td>\n",
       "      <td>0</td>\n",
       "      <td>0</td>\n",
       "      <td>0</td>\n",
       "      <td>0</td>\n",
       "      <td>0</td>\n",
       "      <td>No</td>\n",
       "    </tr>\n",
       "    <tr>\n",
       "      <th>4</th>\n",
       "      <td>8.841186e+12</td>\n",
       "      <td>5642494</td>\n",
       "      <td>F</td>\n",
       "      <td>2016-04-29T16:07:23Z</td>\n",
       "      <td>2016-04-29T00:00:00Z</td>\n",
       "      <td>56</td>\n",
       "      <td>JARDIM DA PENHA</td>\n",
       "      <td>0</td>\n",
       "      <td>1</td>\n",
       "      <td>1</td>\n",
       "      <td>0</td>\n",
       "      <td>0</td>\n",
       "      <td>0</td>\n",
       "      <td>No</td>\n",
       "    </tr>\n",
       "  </tbody>\n",
       "</table>\n",
       "</div>"
      ],
      "text/plain": [
       "      PatientId  AppointmentID Gender          ScheduledDay  \\\n",
       "0  2.987250e+13        5642903      F  2016-04-29T18:38:08Z   \n",
       "1  5.589978e+14        5642503      M  2016-04-29T16:08:27Z   \n",
       "2  4.262962e+12        5642549      F  2016-04-29T16:19:04Z   \n",
       "3  8.679512e+11        5642828      F  2016-04-29T17:29:31Z   \n",
       "4  8.841186e+12        5642494      F  2016-04-29T16:07:23Z   \n",
       "\n",
       "         AppointmentDay  Age      Neighbourhood  Scholarship  Hipertension  \\\n",
       "0  2016-04-29T00:00:00Z   62    JARDIM DA PENHA            0             1   \n",
       "1  2016-04-29T00:00:00Z   56    JARDIM DA PENHA            0             0   \n",
       "2  2016-04-29T00:00:00Z   62      MATA DA PRAIA            0             0   \n",
       "3  2016-04-29T00:00:00Z    8  PONTAL DE CAMBURI            0             0   \n",
       "4  2016-04-29T00:00:00Z   56    JARDIM DA PENHA            0             1   \n",
       "\n",
       "   Diabetes  Alcoholism  Handcap  SMS_received No-show  \n",
       "0         0           0        0             0      No  \n",
       "1         0           0        0             0      No  \n",
       "2         0           0        0             0      No  \n",
       "3         0           0        0             0      No  \n",
       "4         1           0        0             0      No  "
      ]
     },
     "execution_count": 2,
     "metadata": {},
     "output_type": "execute_result"
    }
   ],
   "source": [
    "# Reading the csv file into the dataframe\n",
    "df = pd.read_csv('noshowappointments-kagglev2-may-2016.csv')\n",
    "df.head()"
   ]
  },
  {
   "cell_type": "code",
   "execution_count": 3,
   "id": "a8d7db61",
   "metadata": {},
   "outputs": [
    {
     "name": "stdout",
     "output_type": "stream",
     "text": [
      "<class 'pandas.core.frame.DataFrame'>\n",
      "RangeIndex: 110527 entries, 0 to 110526\n",
      "Data columns (total 14 columns):\n",
      " #   Column          Non-Null Count   Dtype  \n",
      "---  ------          --------------   -----  \n",
      " 0   PatientId       110527 non-null  float64\n",
      " 1   AppointmentID   110527 non-null  int64  \n",
      " 2   Gender          110527 non-null  object \n",
      " 3   ScheduledDay    110527 non-null  object \n",
      " 4   AppointmentDay  110527 non-null  object \n",
      " 5   Age             110527 non-null  int64  \n",
      " 6   Neighbourhood   110527 non-null  object \n",
      " 7   Scholarship     110527 non-null  int64  \n",
      " 8   Hipertension    110527 non-null  int64  \n",
      " 9   Diabetes        110527 non-null  int64  \n",
      " 10  Alcoholism      110527 non-null  int64  \n",
      " 11  Handcap         110527 non-null  int64  \n",
      " 12  SMS_received    110527 non-null  int64  \n",
      " 13  No-show         110527 non-null  object \n",
      "dtypes: float64(1), int64(8), object(5)\n",
      "memory usage: 11.8+ MB\n"
     ]
    }
   ],
   "source": [
    "# Checking the datatype and column names\n",
    "df.info()"
   ]
  },
  {
   "cell_type": "code",
   "execution_count": 4,
   "id": "a6bf4ade",
   "metadata": {},
   "outputs": [
    {
     "data": {
      "text/plain": [
       "0"
      ]
     },
     "execution_count": 4,
     "metadata": {},
     "output_type": "execute_result"
    }
   ],
   "source": [
    "# Checking for duplicate rows or records\n",
    "df.duplicated().sum()"
   ]
  },
  {
   "cell_type": "code",
   "execution_count": 5,
   "id": "da2f2afd",
   "metadata": {},
   "outputs": [
    {
     "data": {
      "text/plain": [
       "8.221459e+14    88\n",
       "9.963767e+10    84\n",
       "2.688613e+13    70\n",
       "3.353478e+13    65\n",
       "6.264199e+12    62\n",
       "                ..\n",
       "8.622636e+11     1\n",
       "9.267587e+12     1\n",
       "5.764356e+12     1\n",
       "5.712491e+12     1\n",
       "1.557663e+13     1\n",
       "Name: PatientId, Length: 62299, dtype: int64"
      ]
     },
     "execution_count": 5,
     "metadata": {},
     "output_type": "execute_result"
    }
   ],
   "source": [
    "# Checking whether there are unique \n",
    "df.PatientId.value_counts()"
   ]
  },
  {
   "cell_type": "code",
   "execution_count": 6,
   "id": "8c22f772",
   "metadata": {},
   "outputs": [
    {
     "data": {
      "text/plain": [
       "0"
      ]
     },
     "execution_count": 6,
     "metadata": {},
     "output_type": "execute_result"
    }
   ],
   "source": [
    "# Checking for null values\n",
    "df.isnull().sum().sum()"
   ]
  },
  {
   "cell_type": "code",
   "execution_count": 7,
   "id": "b1deae5c",
   "metadata": {},
   "outputs": [
    {
     "data": {
      "text/plain": [
       "0    108286\n",
       "1      2042\n",
       "2       183\n",
       "3        13\n",
       "4         3\n",
       "Name: Handcap, dtype: int64"
      ]
     },
     "execution_count": 7,
     "metadata": {},
     "output_type": "execute_result"
    }
   ],
   "source": [
    "# Checking the values assigned to records in the Handcap column\n",
    "df.Handcap.value_counts()"
   ]
  },
  {
   "cell_type": "code",
   "execution_count": 8,
   "id": "2a5ab93a",
   "metadata": {},
   "outputs": [
    {
     "data": {
      "text/plain": [
       " 0      3539\n",
       " 1      2273\n",
       " 52     1746\n",
       " 49     1652\n",
       " 53     1651\n",
       "        ... \n",
       " 115       5\n",
       " 100       4\n",
       " 102       2\n",
       " 99        1\n",
       "-1         1\n",
       "Name: Age, Length: 104, dtype: int64"
      ]
     },
     "execution_count": 8,
     "metadata": {},
     "output_type": "execute_result"
    }
   ],
   "source": [
    "# Checking the age assigned to each record \n",
    "df.Age.value_counts()"
   ]
  },
  {
   "cell_type": "code",
   "execution_count": 9,
   "id": "e29ceb65",
   "metadata": {},
   "outputs": [
    {
     "data": {
      "text/plain": [
       "count    110527.000000\n",
       "mean         37.088874\n",
       "std          23.110205\n",
       "min          -1.000000\n",
       "25%          18.000000\n",
       "50%          37.000000\n",
       "75%          55.000000\n",
       "max         115.000000\n",
       "Name: Age, dtype: float64"
      ]
     },
     "execution_count": 9,
     "metadata": {},
     "output_type": "execute_result"
    }
   ],
   "source": [
    "# Checking for errors in the entries\n",
    "df.Age.describe()"
   ]
  },
  {
   "cell_type": "code",
   "execution_count": 10,
   "id": "73954918",
   "metadata": {},
   "outputs": [
    {
     "data": {
      "text/html": [
       "<div>\n",
       "<style scoped>\n",
       "    .dataframe tbody tr th:only-of-type {\n",
       "        vertical-align: middle;\n",
       "    }\n",
       "\n",
       "    .dataframe tbody tr th {\n",
       "        vertical-align: top;\n",
       "    }\n",
       "\n",
       "    .dataframe thead th {\n",
       "        text-align: right;\n",
       "    }\n",
       "</style>\n",
       "<table border=\"1\" class=\"dataframe\">\n",
       "  <thead>\n",
       "    <tr style=\"text-align: right;\">\n",
       "      <th></th>\n",
       "      <th>PatientId</th>\n",
       "      <th>AppointmentID</th>\n",
       "      <th>Gender</th>\n",
       "      <th>ScheduledDay</th>\n",
       "      <th>AppointmentDay</th>\n",
       "      <th>Age</th>\n",
       "      <th>Neighbourhood</th>\n",
       "      <th>Scholarship</th>\n",
       "      <th>Hipertension</th>\n",
       "      <th>Diabetes</th>\n",
       "      <th>Alcoholism</th>\n",
       "      <th>Handcap</th>\n",
       "      <th>SMS_received</th>\n",
       "      <th>No-show</th>\n",
       "    </tr>\n",
       "  </thead>\n",
       "  <tbody>\n",
       "    <tr>\n",
       "      <th>99832</th>\n",
       "      <td>4.659432e+14</td>\n",
       "      <td>5775010</td>\n",
       "      <td>F</td>\n",
       "      <td>2016-06-06T08:58:13Z</td>\n",
       "      <td>2016-06-06T00:00:00Z</td>\n",
       "      <td>-1</td>\n",
       "      <td>ROMÃO</td>\n",
       "      <td>0</td>\n",
       "      <td>0</td>\n",
       "      <td>0</td>\n",
       "      <td>0</td>\n",
       "      <td>0</td>\n",
       "      <td>0</td>\n",
       "      <td>No</td>\n",
       "    </tr>\n",
       "    <tr>\n",
       "      <th>59</th>\n",
       "      <td>7.184428e+13</td>\n",
       "      <td>5638545</td>\n",
       "      <td>F</td>\n",
       "      <td>2016-04-29T08:08:43Z</td>\n",
       "      <td>2016-04-29T00:00:00Z</td>\n",
       "      <td>0</td>\n",
       "      <td>CONQUISTA</td>\n",
       "      <td>0</td>\n",
       "      <td>0</td>\n",
       "      <td>0</td>\n",
       "      <td>0</td>\n",
       "      <td>0</td>\n",
       "      <td>0</td>\n",
       "      <td>No</td>\n",
       "    </tr>\n",
       "    <tr>\n",
       "      <th>63</th>\n",
       "      <td>2.366233e+14</td>\n",
       "      <td>5628286</td>\n",
       "      <td>M</td>\n",
       "      <td>2016-04-27T10:46:12Z</td>\n",
       "      <td>2016-04-29T00:00:00Z</td>\n",
       "      <td>0</td>\n",
       "      <td>SÃO BENEDITO</td>\n",
       "      <td>0</td>\n",
       "      <td>0</td>\n",
       "      <td>0</td>\n",
       "      <td>0</td>\n",
       "      <td>0</td>\n",
       "      <td>0</td>\n",
       "      <td>No</td>\n",
       "    </tr>\n",
       "    <tr>\n",
       "      <th>64</th>\n",
       "      <td>1.885174e+14</td>\n",
       "      <td>5616082</td>\n",
       "      <td>M</td>\n",
       "      <td>2016-04-25T13:28:21Z</td>\n",
       "      <td>2016-04-29T00:00:00Z</td>\n",
       "      <td>0</td>\n",
       "      <td>ILHA DAS CAIEIRAS</td>\n",
       "      <td>0</td>\n",
       "      <td>0</td>\n",
       "      <td>0</td>\n",
       "      <td>0</td>\n",
       "      <td>0</td>\n",
       "      <td>1</td>\n",
       "      <td>No</td>\n",
       "    </tr>\n",
       "    <tr>\n",
       "      <th>65</th>\n",
       "      <td>2.718818e+14</td>\n",
       "      <td>5628321</td>\n",
       "      <td>M</td>\n",
       "      <td>2016-04-27T10:48:50Z</td>\n",
       "      <td>2016-04-29T00:00:00Z</td>\n",
       "      <td>0</td>\n",
       "      <td>CONQUISTA</td>\n",
       "      <td>0</td>\n",
       "      <td>0</td>\n",
       "      <td>0</td>\n",
       "      <td>0</td>\n",
       "      <td>0</td>\n",
       "      <td>0</td>\n",
       "      <td>No</td>\n",
       "    </tr>\n",
       "    <tr>\n",
       "      <th>67</th>\n",
       "      <td>8.647128e+13</td>\n",
       "      <td>5639264</td>\n",
       "      <td>F</td>\n",
       "      <td>2016-04-29T08:53:02Z</td>\n",
       "      <td>2016-04-29T00:00:00Z</td>\n",
       "      <td>0</td>\n",
       "      <td>NOVA PALESTINA</td>\n",
       "      <td>0</td>\n",
       "      <td>0</td>\n",
       "      <td>0</td>\n",
       "      <td>0</td>\n",
       "      <td>0</td>\n",
       "      <td>0</td>\n",
       "      <td>No</td>\n",
       "    </tr>\n",
       "    <tr>\n",
       "      <th>89</th>\n",
       "      <td>4.314932e+14</td>\n",
       "      <td>5640380</td>\n",
       "      <td>M</td>\n",
       "      <td>2016-04-29T10:37:02Z</td>\n",
       "      <td>2016-04-29T00:00:00Z</td>\n",
       "      <td>0</td>\n",
       "      <td>MONTE BELO</td>\n",
       "      <td>0</td>\n",
       "      <td>0</td>\n",
       "      <td>0</td>\n",
       "      <td>0</td>\n",
       "      <td>0</td>\n",
       "      <td>0</td>\n",
       "      <td>No</td>\n",
       "    </tr>\n",
       "    <tr>\n",
       "      <th>101</th>\n",
       "      <td>6.822847e+13</td>\n",
       "      <td>5642813</td>\n",
       "      <td>M</td>\n",
       "      <td>2016-04-29T17:24:19Z</td>\n",
       "      <td>2016-04-29T00:00:00Z</td>\n",
       "      <td>0</td>\n",
       "      <td>BONFIM</td>\n",
       "      <td>0</td>\n",
       "      <td>0</td>\n",
       "      <td>0</td>\n",
       "      <td>0</td>\n",
       "      <td>0</td>\n",
       "      <td>0</td>\n",
       "      <td>No</td>\n",
       "    </tr>\n",
       "    <tr>\n",
       "      <th>104</th>\n",
       "      <td>3.326985e+12</td>\n",
       "      <td>5632495</td>\n",
       "      <td>F</td>\n",
       "      <td>2016-04-28T08:04:48Z</td>\n",
       "      <td>2016-04-29T00:00:00Z</td>\n",
       "      <td>0</td>\n",
       "      <td>SANTO ANTÔNIO</td>\n",
       "      <td>0</td>\n",
       "      <td>0</td>\n",
       "      <td>0</td>\n",
       "      <td>0</td>\n",
       "      <td>0</td>\n",
       "      <td>0</td>\n",
       "      <td>Yes</td>\n",
       "    </tr>\n",
       "    <tr>\n",
       "      <th>132</th>\n",
       "      <td>8.468587e+14</td>\n",
       "      <td>5560742</td>\n",
       "      <td>M</td>\n",
       "      <td>2016-04-08T09:29:23Z</td>\n",
       "      <td>2016-04-29T00:00:00Z</td>\n",
       "      <td>0</td>\n",
       "      <td>PRAIA DO SUÁ</td>\n",
       "      <td>0</td>\n",
       "      <td>0</td>\n",
       "      <td>0</td>\n",
       "      <td>0</td>\n",
       "      <td>0</td>\n",
       "      <td>1</td>\n",
       "      <td>Yes</td>\n",
       "    </tr>\n",
       "    <tr>\n",
       "      <th>150</th>\n",
       "      <td>5.392419e+10</td>\n",
       "      <td>5641476</td>\n",
       "      <td>M</td>\n",
       "      <td>2016-04-29T13:43:34Z</td>\n",
       "      <td>2016-04-29T00:00:00Z</td>\n",
       "      <td>0</td>\n",
       "      <td>ITARARÉ</td>\n",
       "      <td>0</td>\n",
       "      <td>0</td>\n",
       "      <td>0</td>\n",
       "      <td>0</td>\n",
       "      <td>0</td>\n",
       "      <td>0</td>\n",
       "      <td>No</td>\n",
       "    </tr>\n",
       "    <tr>\n",
       "      <th>188</th>\n",
       "      <td>1.883366e+14</td>\n",
       "      <td>5640933</td>\n",
       "      <td>M</td>\n",
       "      <td>2016-04-29T11:44:49Z</td>\n",
       "      <td>2016-04-29T00:00:00Z</td>\n",
       "      <td>0</td>\n",
       "      <td>NOVA PALESTINA</td>\n",
       "      <td>0</td>\n",
       "      <td>0</td>\n",
       "      <td>0</td>\n",
       "      <td>0</td>\n",
       "      <td>0</td>\n",
       "      <td>0</td>\n",
       "      <td>No</td>\n",
       "    </tr>\n",
       "    <tr>\n",
       "      <th>192</th>\n",
       "      <td>1.165338e+12</td>\n",
       "      <td>5640561</td>\n",
       "      <td>M</td>\n",
       "      <td>2016-04-29T10:57:14Z</td>\n",
       "      <td>2016-04-29T00:00:00Z</td>\n",
       "      <td>0</td>\n",
       "      <td>CONQUISTA</td>\n",
       "      <td>0</td>\n",
       "      <td>0</td>\n",
       "      <td>0</td>\n",
       "      <td>0</td>\n",
       "      <td>0</td>\n",
       "      <td>0</td>\n",
       "      <td>No</td>\n",
       "    </tr>\n",
       "    <tr>\n",
       "      <th>193</th>\n",
       "      <td>2.379698e+11</td>\n",
       "      <td>5532452</td>\n",
       "      <td>F</td>\n",
       "      <td>2016-03-31T11:14:57Z</td>\n",
       "      <td>2016-04-29T00:00:00Z</td>\n",
       "      <td>0</td>\n",
       "      <td>NOVA PALESTINA</td>\n",
       "      <td>0</td>\n",
       "      <td>0</td>\n",
       "      <td>0</td>\n",
       "      <td>0</td>\n",
       "      <td>0</td>\n",
       "      <td>1</td>\n",
       "      <td>No</td>\n",
       "    </tr>\n",
       "    <tr>\n",
       "      <th>194</th>\n",
       "      <td>4.442538e+11</td>\n",
       "      <td>5539566</td>\n",
       "      <td>M</td>\n",
       "      <td>2016-04-01T15:17:10Z</td>\n",
       "      <td>2016-04-29T00:00:00Z</td>\n",
       "      <td>0</td>\n",
       "      <td>REDENÇÃO</td>\n",
       "      <td>0</td>\n",
       "      <td>0</td>\n",
       "      <td>0</td>\n",
       "      <td>0</td>\n",
       "      <td>0</td>\n",
       "      <td>0</td>\n",
       "      <td>No</td>\n",
       "    </tr>\n",
       "    <tr>\n",
       "      <th>250</th>\n",
       "      <td>2.942723e+14</td>\n",
       "      <td>5640181</td>\n",
       "      <td>M</td>\n",
       "      <td>2016-04-29T10:13:35Z</td>\n",
       "      <td>2016-04-29T00:00:00Z</td>\n",
       "      <td>0</td>\n",
       "      <td>CARATOÍRA</td>\n",
       "      <td>0</td>\n",
       "      <td>0</td>\n",
       "      <td>0</td>\n",
       "      <td>0</td>\n",
       "      <td>0</td>\n",
       "      <td>0</td>\n",
       "      <td>Yes</td>\n",
       "    </tr>\n",
       "    <tr>\n",
       "      <th>256</th>\n",
       "      <td>8.599713e+10</td>\n",
       "      <td>5629906</td>\n",
       "      <td>F</td>\n",
       "      <td>2016-04-27T14:19:02Z</td>\n",
       "      <td>2016-04-29T00:00:00Z</td>\n",
       "      <td>0</td>\n",
       "      <td>ARIOVALDO FAVALESSA</td>\n",
       "      <td>0</td>\n",
       "      <td>0</td>\n",
       "      <td>0</td>\n",
       "      <td>0</td>\n",
       "      <td>0</td>\n",
       "      <td>0</td>\n",
       "      <td>Yes</td>\n",
       "    </tr>\n",
       "    <tr>\n",
       "      <th>266</th>\n",
       "      <td>1.198173e+13</td>\n",
       "      <td>5639237</td>\n",
       "      <td>M</td>\n",
       "      <td>2016-04-29T08:50:09Z</td>\n",
       "      <td>2016-04-29T00:00:00Z</td>\n",
       "      <td>0</td>\n",
       "      <td>MARIA ORTIZ</td>\n",
       "      <td>0</td>\n",
       "      <td>0</td>\n",
       "      <td>0</td>\n",
       "      <td>0</td>\n",
       "      <td>0</td>\n",
       "      <td>0</td>\n",
       "      <td>No</td>\n",
       "    </tr>\n",
       "    <tr>\n",
       "      <th>292</th>\n",
       "      <td>4.645238e+13</td>\n",
       "      <td>5642766</td>\n",
       "      <td>F</td>\n",
       "      <td>2016-04-29T17:06:22Z</td>\n",
       "      <td>2016-04-29T00:00:00Z</td>\n",
       "      <td>0</td>\n",
       "      <td>GURIGICA</td>\n",
       "      <td>0</td>\n",
       "      <td>0</td>\n",
       "      <td>0</td>\n",
       "      <td>0</td>\n",
       "      <td>0</td>\n",
       "      <td>0</td>\n",
       "      <td>No</td>\n",
       "    </tr>\n",
       "    <tr>\n",
       "      <th>305</th>\n",
       "      <td>9.794819e+11</td>\n",
       "      <td>5638226</td>\n",
       "      <td>F</td>\n",
       "      <td>2016-04-29T07:49:54Z</td>\n",
       "      <td>2016-04-29T00:00:00Z</td>\n",
       "      <td>0</td>\n",
       "      <td>JOANA D´ARC</td>\n",
       "      <td>0</td>\n",
       "      <td>0</td>\n",
       "      <td>0</td>\n",
       "      <td>0</td>\n",
       "      <td>0</td>\n",
       "      <td>0</td>\n",
       "      <td>No</td>\n",
       "    </tr>\n",
       "  </tbody>\n",
       "</table>\n",
       "</div>"
      ],
      "text/plain": [
       "          PatientId  AppointmentID Gender          ScheduledDay  \\\n",
       "99832  4.659432e+14        5775010      F  2016-06-06T08:58:13Z   \n",
       "59     7.184428e+13        5638545      F  2016-04-29T08:08:43Z   \n",
       "63     2.366233e+14        5628286      M  2016-04-27T10:46:12Z   \n",
       "64     1.885174e+14        5616082      M  2016-04-25T13:28:21Z   \n",
       "65     2.718818e+14        5628321      M  2016-04-27T10:48:50Z   \n",
       "67     8.647128e+13        5639264      F  2016-04-29T08:53:02Z   \n",
       "89     4.314932e+14        5640380      M  2016-04-29T10:37:02Z   \n",
       "101    6.822847e+13        5642813      M  2016-04-29T17:24:19Z   \n",
       "104    3.326985e+12        5632495      F  2016-04-28T08:04:48Z   \n",
       "132    8.468587e+14        5560742      M  2016-04-08T09:29:23Z   \n",
       "150    5.392419e+10        5641476      M  2016-04-29T13:43:34Z   \n",
       "188    1.883366e+14        5640933      M  2016-04-29T11:44:49Z   \n",
       "192    1.165338e+12        5640561      M  2016-04-29T10:57:14Z   \n",
       "193    2.379698e+11        5532452      F  2016-03-31T11:14:57Z   \n",
       "194    4.442538e+11        5539566      M  2016-04-01T15:17:10Z   \n",
       "250    2.942723e+14        5640181      M  2016-04-29T10:13:35Z   \n",
       "256    8.599713e+10        5629906      F  2016-04-27T14:19:02Z   \n",
       "266    1.198173e+13        5639237      M  2016-04-29T08:50:09Z   \n",
       "292    4.645238e+13        5642766      F  2016-04-29T17:06:22Z   \n",
       "305    9.794819e+11        5638226      F  2016-04-29T07:49:54Z   \n",
       "\n",
       "             AppointmentDay  Age        Neighbourhood  Scholarship  \\\n",
       "99832  2016-06-06T00:00:00Z   -1                ROMÃO            0   \n",
       "59     2016-04-29T00:00:00Z    0            CONQUISTA            0   \n",
       "63     2016-04-29T00:00:00Z    0         SÃO BENEDITO            0   \n",
       "64     2016-04-29T00:00:00Z    0    ILHA DAS CAIEIRAS            0   \n",
       "65     2016-04-29T00:00:00Z    0            CONQUISTA            0   \n",
       "67     2016-04-29T00:00:00Z    0       NOVA PALESTINA            0   \n",
       "89     2016-04-29T00:00:00Z    0           MONTE BELO            0   \n",
       "101    2016-04-29T00:00:00Z    0               BONFIM            0   \n",
       "104    2016-04-29T00:00:00Z    0        SANTO ANTÔNIO            0   \n",
       "132    2016-04-29T00:00:00Z    0         PRAIA DO SUÁ            0   \n",
       "150    2016-04-29T00:00:00Z    0              ITARARÉ            0   \n",
       "188    2016-04-29T00:00:00Z    0       NOVA PALESTINA            0   \n",
       "192    2016-04-29T00:00:00Z    0            CONQUISTA            0   \n",
       "193    2016-04-29T00:00:00Z    0       NOVA PALESTINA            0   \n",
       "194    2016-04-29T00:00:00Z    0             REDENÇÃO            0   \n",
       "250    2016-04-29T00:00:00Z    0            CARATOÍRA            0   \n",
       "256    2016-04-29T00:00:00Z    0  ARIOVALDO FAVALESSA            0   \n",
       "266    2016-04-29T00:00:00Z    0          MARIA ORTIZ            0   \n",
       "292    2016-04-29T00:00:00Z    0             GURIGICA            0   \n",
       "305    2016-04-29T00:00:00Z    0          JOANA D´ARC            0   \n",
       "\n",
       "       Hipertension  Diabetes  Alcoholism  Handcap  SMS_received No-show  \n",
       "99832             0         0           0        0             0      No  \n",
       "59                0         0           0        0             0      No  \n",
       "63                0         0           0        0             0      No  \n",
       "64                0         0           0        0             1      No  \n",
       "65                0         0           0        0             0      No  \n",
       "67                0         0           0        0             0      No  \n",
       "89                0         0           0        0             0      No  \n",
       "101               0         0           0        0             0      No  \n",
       "104               0         0           0        0             0     Yes  \n",
       "132               0         0           0        0             1     Yes  \n",
       "150               0         0           0        0             0      No  \n",
       "188               0         0           0        0             0      No  \n",
       "192               0         0           0        0             0      No  \n",
       "193               0         0           0        0             1      No  \n",
       "194               0         0           0        0             0      No  \n",
       "250               0         0           0        0             0     Yes  \n",
       "256               0         0           0        0             0     Yes  \n",
       "266               0         0           0        0             0      No  \n",
       "292               0         0           0        0             0      No  \n",
       "305               0         0           0        0             0      No  "
      ]
     },
     "execution_count": 10,
     "metadata": {},
     "output_type": "execute_result"
    }
   ],
   "source": [
    "df.nsmallest(20,'Age')"
   ]
  },
  {
   "cell_type": "markdown",
   "id": "fec3585c",
   "metadata": {},
   "source": [
    "## OBSERVATION\n",
    "### QUALITY\n",
    " - Incorrect column names\n",
    " - The age column has outliers\n",
    " - Better parameters for various columns instead of 0,1,2,3 and 4\n",
    " - Change the datatype of the scheduled day,appointment day,Scholarship,Hipertension,Diabetes,Alcoholism,Handcap columns\n",
    " - Create a waiting time column to find out the time patients waited to be attended to\n",
    " - The values for the Scholarship,Hipertension,Diabetes,Alcoholism,Handcap columns should be more explanatory\n",
    " - The values in the neighbourhood column should be in proper case\n",
    " "
   ]
  },
  {
   "cell_type": "markdown",
   "id": "4b557d9f",
   "metadata": {},
   "source": [
    "## CLEANING"
   ]
  },
  {
   "cell_type": "code",
   "execution_count": 11,
   "id": "810149ce",
   "metadata": {},
   "outputs": [],
   "source": [
    "# Creating a copy of the dataframe\n",
    "clean_df = df.copy()"
   ]
  },
  {
   "cell_type": "markdown",
   "id": "48432a6c",
   "metadata": {},
   "source": [
    "### Renaming the incorrect column names"
   ]
  },
  {
   "cell_type": "code",
   "execution_count": 12,
   "id": "7dd1247f",
   "metadata": {},
   "outputs": [],
   "source": [
    "clean_df.rename(columns={'Hipertension':'Hypertension','Handcap':'Handicap',\n",
    "                'ScheduledDay':'Scheduled_Day','AppointmentDay':'Appointment_Day','No-show':'No_show'} , inplace = True)"
   ]
  },
  {
   "cell_type": "code",
   "execution_count": 13,
   "id": "b4b798f6",
   "metadata": {},
   "outputs": [
    {
     "data": {
      "text/plain": [
       "Index(['PatientId', 'AppointmentID', 'Gender', 'Scheduled_Day',\n",
       "       'Appointment_Day', 'Age', 'Neighbourhood', 'Scholarship',\n",
       "       'Hypertension', 'Diabetes', 'Alcoholism', 'Handicap', 'SMS_received',\n",
       "       'No_show'],\n",
       "      dtype='object')"
      ]
     },
     "execution_count": 13,
     "metadata": {},
     "output_type": "execute_result"
    }
   ],
   "source": [
    "# Testing the code\n",
    "clean_df.columns"
   ]
  },
  {
   "cell_type": "markdown",
   "id": "d1a4334d",
   "metadata": {},
   "source": [
    "### Fixing the Age column values"
   ]
  },
  {
   "cell_type": "code",
   "execution_count": 14,
   "id": "1e57be27",
   "metadata": {},
   "outputs": [
    {
     "data": {
      "text/plain": [
       "<AxesSubplot:xlabel='Age'>"
      ]
     },
     "execution_count": 14,
     "metadata": {},
     "output_type": "execute_result"
    },
    {
     "data": {
      "image/png": "[encoded data removed]",
      "text/plain": [
       "<Figure size 432x288 with 1 Axes>"
      ]
     },
     "metadata": {
      "needs_background": "light"
     },
     "output_type": "display_data"
    }
   ],
   "source": [
    "# the -1 is an outlier because it isnt possible while the 115 is possible but will be considered an outlier due to the boxplot show below\n",
    "sb.boxplot(x=clean_df.Age)"
   ]
  },
  {
   "cell_type": "code",
   "execution_count": 15,
   "id": "98bd598f",
   "metadata": {},
   "outputs": [],
   "source": [
    "clean_df = clean_df[(clean_df.Age > 0 ) & (clean_df.Age != 115)]\n"
   ]
  },
  {
   "cell_type": "code",
   "execution_count": 16,
   "id": "b3298812",
   "metadata": {},
   "outputs": [
    {
     "name": "stdout",
     "output_type": "stream",
     "text": [
      "102\n",
      "1\n"
     ]
    },
    {
     "data": {
      "text/plain": [
       "<AxesSubplot:xlabel='Age'>"
      ]
     },
     "execution_count": 16,
     "metadata": {},
     "output_type": "execute_result"
    },
    {
     "data": {
      "image/png": "[encoded data removed]",
      "text/plain": [
       "<Figure size 432x288 with 1 Axes>"
      ]
     },
     "metadata": {
      "needs_background": "light"
     },
     "output_type": "display_data"
    }
   ],
   "source": [
    "# Testing the code\n",
    "print(clean_df.Age.max())\n",
    "print(clean_df.Age.min())\n",
    "sb.boxplot(x=clean_df.Age)"
   ]
  },
  {
   "cell_type": "markdown",
   "id": "e44c183f",
   "metadata": {},
   "source": [
    "### Substituting better parameters for various columns"
   ]
  },
  {
   "cell_type": "code",
   "execution_count": 17,
   "id": "ae29f58f",
   "metadata": {},
   "outputs": [],
   "source": [
    "for col in ['Scholarship', 'Hypertension', 'Diabetes', 'Alcoholism', 'SMS_received', 'No_show']:\n",
    "    clean_df[col] = clean_df[col].replace({0:'No',1:'Yes'})"
   ]
  },
  {
   "cell_type": "code",
   "execution_count": 18,
   "id": "748d486b",
   "metadata": {},
   "outputs": [
    {
     "data": {
      "text/html": [
       "<div>\n",
       "<style scoped>\n",
       "    .dataframe tbody tr th:only-of-type {\n",
       "        vertical-align: middle;\n",
       "    }\n",
       "\n",
       "    .dataframe tbody tr th {\n",
       "        vertical-align: top;\n",
       "    }\n",
       "\n",
       "    .dataframe thead th {\n",
       "        text-align: right;\n",
       "    }\n",
       "</style>\n",
       "<table border=\"1\" class=\"dataframe\">\n",
       "  <thead>\n",
       "    <tr style=\"text-align: right;\">\n",
       "      <th></th>\n",
       "      <th>PatientId</th>\n",
       "      <th>AppointmentID</th>\n",
       "      <th>Gender</th>\n",
       "      <th>Scheduled_Day</th>\n",
       "      <th>Appointment_Day</th>\n",
       "      <th>Age</th>\n",
       "      <th>Neighbourhood</th>\n",
       "      <th>Scholarship</th>\n",
       "      <th>Hypertension</th>\n",
       "      <th>Diabetes</th>\n",
       "      <th>Alcoholism</th>\n",
       "      <th>Handicap</th>\n",
       "      <th>SMS_received</th>\n",
       "      <th>No_show</th>\n",
       "    </tr>\n",
       "  </thead>\n",
       "  <tbody>\n",
       "    <tr>\n",
       "      <th>0</th>\n",
       "      <td>2.987250e+13</td>\n",
       "      <td>5642903</td>\n",
       "      <td>F</td>\n",
       "      <td>2016-04-29T18:38:08Z</td>\n",
       "      <td>2016-04-29T00:00:00Z</td>\n",
       "      <td>62</td>\n",
       "      <td>JARDIM DA PENHA</td>\n",
       "      <td>No</td>\n",
       "      <td>Yes</td>\n",
       "      <td>No</td>\n",
       "      <td>No</td>\n",
       "      <td>0</td>\n",
       "      <td>No</td>\n",
       "      <td>No</td>\n",
       "    </tr>\n",
       "    <tr>\n",
       "      <th>1</th>\n",
       "      <td>5.589978e+14</td>\n",
       "      <td>5642503</td>\n",
       "      <td>M</td>\n",
       "      <td>2016-04-29T16:08:27Z</td>\n",
       "      <td>2016-04-29T00:00:00Z</td>\n",
       "      <td>56</td>\n",
       "      <td>JARDIM DA PENHA</td>\n",
       "      <td>No</td>\n",
       "      <td>No</td>\n",
       "      <td>No</td>\n",
       "      <td>No</td>\n",
       "      <td>0</td>\n",
       "      <td>No</td>\n",
       "      <td>No</td>\n",
       "    </tr>\n",
       "    <tr>\n",
       "      <th>2</th>\n",
       "      <td>4.262962e+12</td>\n",
       "      <td>5642549</td>\n",
       "      <td>F</td>\n",
       "      <td>2016-04-29T16:19:04Z</td>\n",
       "      <td>2016-04-29T00:00:00Z</td>\n",
       "      <td>62</td>\n",
       "      <td>MATA DA PRAIA</td>\n",
       "      <td>No</td>\n",
       "      <td>No</td>\n",
       "      <td>No</td>\n",
       "      <td>No</td>\n",
       "      <td>0</td>\n",
       "      <td>No</td>\n",
       "      <td>No</td>\n",
       "    </tr>\n",
       "    <tr>\n",
       "      <th>3</th>\n",
       "      <td>8.679512e+11</td>\n",
       "      <td>5642828</td>\n",
       "      <td>F</td>\n",
       "      <td>2016-04-29T17:29:31Z</td>\n",
       "      <td>2016-04-29T00:00:00Z</td>\n",
       "      <td>8</td>\n",
       "      <td>PONTAL DE CAMBURI</td>\n",
       "      <td>No</td>\n",
       "      <td>No</td>\n",
       "      <td>No</td>\n",
       "      <td>No</td>\n",
       "      <td>0</td>\n",
       "      <td>No</td>\n",
       "      <td>No</td>\n",
       "    </tr>\n",
       "    <tr>\n",
       "      <th>4</th>\n",
       "      <td>8.841186e+12</td>\n",
       "      <td>5642494</td>\n",
       "      <td>F</td>\n",
       "      <td>2016-04-29T16:07:23Z</td>\n",
       "      <td>2016-04-29T00:00:00Z</td>\n",
       "      <td>56</td>\n",
       "      <td>JARDIM DA PENHA</td>\n",
       "      <td>No</td>\n",
       "      <td>Yes</td>\n",
       "      <td>Yes</td>\n",
       "      <td>No</td>\n",
       "      <td>0</td>\n",
       "      <td>No</td>\n",
       "      <td>No</td>\n",
       "    </tr>\n",
       "  </tbody>\n",
       "</table>\n",
       "</div>"
      ],
      "text/plain": [
       "      PatientId  AppointmentID Gender         Scheduled_Day  \\\n",
       "0  2.987250e+13        5642903      F  2016-04-29T18:38:08Z   \n",
       "1  5.589978e+14        5642503      M  2016-04-29T16:08:27Z   \n",
       "2  4.262962e+12        5642549      F  2016-04-29T16:19:04Z   \n",
       "3  8.679512e+11        5642828      F  2016-04-29T17:29:31Z   \n",
       "4  8.841186e+12        5642494      F  2016-04-29T16:07:23Z   \n",
       "\n",
       "        Appointment_Day  Age      Neighbourhood Scholarship Hypertension  \\\n",
       "0  2016-04-29T00:00:00Z   62    JARDIM DA PENHA          No          Yes   \n",
       "1  2016-04-29T00:00:00Z   56    JARDIM DA PENHA          No           No   \n",
       "2  2016-04-29T00:00:00Z   62      MATA DA PRAIA          No           No   \n",
       "3  2016-04-29T00:00:00Z    8  PONTAL DE CAMBURI          No           No   \n",
       "4  2016-04-29T00:00:00Z   56    JARDIM DA PENHA          No          Yes   \n",
       "\n",
       "  Diabetes Alcoholism  Handicap SMS_received No_show  \n",
       "0       No         No         0           No      No  \n",
       "1       No         No         0           No      No  \n",
       "2       No         No         0           No      No  \n",
       "3       No         No         0           No      No  \n",
       "4      Yes         No         0           No      No  "
      ]
     },
     "execution_count": 18,
     "metadata": {},
     "output_type": "execute_result"
    }
   ],
   "source": [
    "# Testing the code\n",
    "clean_df.head()"
   ]
  },
  {
   "cell_type": "markdown",
   "id": "1142e8ed",
   "metadata": {},
   "source": [
    "### Changing the datatype of some columns"
   ]
  },
  {
   "cell_type": "code",
   "execution_count": 19,
   "id": "932ed9c6",
   "metadata": {},
   "outputs": [],
   "source": [
    "clean_df.Handicap = clean_df.Handicap.astype('category')\n",
    "clean_df['Scheduled_Day'] = pd.to_datetime(clean_df['Scheduled_Day'])\n",
    "clean_df['Appointment_Day'] =  pd.to_datetime(clean_df['Appointment_Day'])"
   ]
  },
  {
   "cell_type": "code",
   "execution_count": 20,
   "id": "8e153e7a",
   "metadata": {},
   "outputs": [
    {
     "name": "stdout",
     "output_type": "stream",
     "text": [
      "<class 'pandas.core.frame.DataFrame'>\n",
      "Int64Index: 106982 entries, 0 to 110526\n",
      "Data columns (total 14 columns):\n",
      " #   Column           Non-Null Count   Dtype              \n",
      "---  ------           --------------   -----              \n",
      " 0   PatientId        106982 non-null  float64            \n",
      " 1   AppointmentID    106982 non-null  int64              \n",
      " 2   Gender           106982 non-null  object             \n",
      " 3   Scheduled_Day    106982 non-null  datetime64[ns, UTC]\n",
      " 4   Appointment_Day  106982 non-null  datetime64[ns, UTC]\n",
      " 5   Age              106982 non-null  int64              \n",
      " 6   Neighbourhood    106982 non-null  object             \n",
      " 7   Scholarship      106982 non-null  object             \n",
      " 8   Hypertension     106982 non-null  object             \n",
      " 9   Diabetes         106982 non-null  object             \n",
      " 10  Alcoholism       106982 non-null  object             \n",
      " 11  Handicap         106982 non-null  category           \n",
      " 12  SMS_received     106982 non-null  object             \n",
      " 13  No_show          106982 non-null  object             \n",
      "dtypes: category(1), datetime64[ns, UTC](2), float64(1), int64(2), object(8)\n",
      "memory usage: 11.5+ MB\n"
     ]
    }
   ],
   "source": [
    "clean_df.info()"
   ]
  },
  {
   "cell_type": "markdown",
   "id": "2500e10c",
   "metadata": {},
   "source": [
    "### Obtaining the waiting times and day of appointment columns"
   ]
  },
  {
   "cell_type": "code",
   "execution_count": 21,
   "id": "928076bb",
   "metadata": {},
   "outputs": [],
   "source": [
    "clean_df.insert(5,'Waiting_time_in_days',(clean_df['Appointment_Day'] - clean_df['Scheduled_Day']).dt.total_seconds()/(3600*24))\n",
    "                "
   ]
  },
  {
   "cell_type": "code",
   "execution_count": 22,
   "id": "68026669",
   "metadata": {},
   "outputs": [],
   "source": [
    "clean_df = clean_df[clean_df['Waiting_time_in_days'] >= 0]\n",
    "clean_df.Waiting_time_in_days=clean_df.Waiting_time_in_days.round(2)"
   ]
  },
  {
   "cell_type": "code",
   "execution_count": 23,
   "id": "44a14e11",
   "metadata": {},
   "outputs": [],
   "source": [
    "clean_df.insert(5,'Day_of_Appointment',clean_df.Appointment_Day.dt.day_name())"
   ]
  },
  {
   "cell_type": "code",
   "execution_count": 24,
   "id": "e3a59519",
   "metadata": {},
   "outputs": [
    {
     "data": {
      "text/html": [
       "<div>\n",
       "<style scoped>\n",
       "    .dataframe tbody tr th:only-of-type {\n",
       "        vertical-align: middle;\n",
       "    }\n",
       "\n",
       "    .dataframe tbody tr th {\n",
       "        vertical-align: top;\n",
       "    }\n",
       "\n",
       "    .dataframe thead th {\n",
       "        text-align: right;\n",
       "    }\n",
       "</style>\n",
       "<table border=\"1\" class=\"dataframe\">\n",
       "  <thead>\n",
       "    <tr style=\"text-align: right;\">\n",
       "      <th></th>\n",
       "      <th>PatientId</th>\n",
       "      <th>AppointmentID</th>\n",
       "      <th>Gender</th>\n",
       "      <th>Scheduled_Day</th>\n",
       "      <th>Appointment_Day</th>\n",
       "      <th>Day_of_Appointment</th>\n",
       "      <th>Waiting_time_in_days</th>\n",
       "      <th>Age</th>\n",
       "      <th>Neighbourhood</th>\n",
       "      <th>Scholarship</th>\n",
       "      <th>Hypertension</th>\n",
       "      <th>Diabetes</th>\n",
       "      <th>Alcoholism</th>\n",
       "      <th>Handicap</th>\n",
       "      <th>SMS_received</th>\n",
       "      <th>No_show</th>\n",
       "    </tr>\n",
       "  </thead>\n",
       "  <tbody>\n",
       "    <tr>\n",
       "      <th>5</th>\n",
       "      <td>9.598513e+13</td>\n",
       "      <td>5626772</td>\n",
       "      <td>F</td>\n",
       "      <td>2016-04-27 08:36:51+00:00</td>\n",
       "      <td>2016-04-29 00:00:00+00:00</td>\n",
       "      <td>Friday</td>\n",
       "      <td>1.64</td>\n",
       "      <td>76</td>\n",
       "      <td>REPÚBLICA</td>\n",
       "      <td>No</td>\n",
       "      <td>Yes</td>\n",
       "      <td>No</td>\n",
       "      <td>No</td>\n",
       "      <td>0</td>\n",
       "      <td>No</td>\n",
       "      <td>No</td>\n",
       "    </tr>\n",
       "    <tr>\n",
       "      <th>6</th>\n",
       "      <td>7.336882e+14</td>\n",
       "      <td>5630279</td>\n",
       "      <td>F</td>\n",
       "      <td>2016-04-27 15:05:12+00:00</td>\n",
       "      <td>2016-04-29 00:00:00+00:00</td>\n",
       "      <td>Friday</td>\n",
       "      <td>1.37</td>\n",
       "      <td>23</td>\n",
       "      <td>GOIABEIRAS</td>\n",
       "      <td>No</td>\n",
       "      <td>No</td>\n",
       "      <td>No</td>\n",
       "      <td>No</td>\n",
       "      <td>0</td>\n",
       "      <td>No</td>\n",
       "      <td>Yes</td>\n",
       "    </tr>\n",
       "    <tr>\n",
       "      <th>7</th>\n",
       "      <td>3.449833e+12</td>\n",
       "      <td>5630575</td>\n",
       "      <td>F</td>\n",
       "      <td>2016-04-27 15:39:58+00:00</td>\n",
       "      <td>2016-04-29 00:00:00+00:00</td>\n",
       "      <td>Friday</td>\n",
       "      <td>1.35</td>\n",
       "      <td>39</td>\n",
       "      <td>GOIABEIRAS</td>\n",
       "      <td>No</td>\n",
       "      <td>No</td>\n",
       "      <td>No</td>\n",
       "      <td>No</td>\n",
       "      <td>0</td>\n",
       "      <td>No</td>\n",
       "      <td>Yes</td>\n",
       "    </tr>\n",
       "    <tr>\n",
       "      <th>9</th>\n",
       "      <td>7.812456e+13</td>\n",
       "      <td>5629123</td>\n",
       "      <td>F</td>\n",
       "      <td>2016-04-27 12:48:25+00:00</td>\n",
       "      <td>2016-04-29 00:00:00+00:00</td>\n",
       "      <td>Friday</td>\n",
       "      <td>1.47</td>\n",
       "      <td>19</td>\n",
       "      <td>CONQUISTA</td>\n",
       "      <td>No</td>\n",
       "      <td>No</td>\n",
       "      <td>No</td>\n",
       "      <td>No</td>\n",
       "      <td>0</td>\n",
       "      <td>No</td>\n",
       "      <td>No</td>\n",
       "    </tr>\n",
       "    <tr>\n",
       "      <th>10</th>\n",
       "      <td>7.345362e+14</td>\n",
       "      <td>5630213</td>\n",
       "      <td>F</td>\n",
       "      <td>2016-04-27 14:58:11+00:00</td>\n",
       "      <td>2016-04-29 00:00:00+00:00</td>\n",
       "      <td>Friday</td>\n",
       "      <td>1.38</td>\n",
       "      <td>30</td>\n",
       "      <td>NOVA PALESTINA</td>\n",
       "      <td>No</td>\n",
       "      <td>No</td>\n",
       "      <td>No</td>\n",
       "      <td>No</td>\n",
       "      <td>0</td>\n",
       "      <td>No</td>\n",
       "      <td>No</td>\n",
       "    </tr>\n",
       "  </tbody>\n",
       "</table>\n",
       "</div>"
      ],
      "text/plain": [
       "       PatientId  AppointmentID Gender             Scheduled_Day  \\\n",
       "5   9.598513e+13        5626772      F 2016-04-27 08:36:51+00:00   \n",
       "6   7.336882e+14        5630279      F 2016-04-27 15:05:12+00:00   \n",
       "7   3.449833e+12        5630575      F 2016-04-27 15:39:58+00:00   \n",
       "9   7.812456e+13        5629123      F 2016-04-27 12:48:25+00:00   \n",
       "10  7.345362e+14        5630213      F 2016-04-27 14:58:11+00:00   \n",
       "\n",
       "             Appointment_Day Day_of_Appointment  Waiting_time_in_days  Age  \\\n",
       "5  2016-04-29 00:00:00+00:00             Friday                  1.64   76   \n",
       "6  2016-04-29 00:00:00+00:00             Friday                  1.37   23   \n",
       "7  2016-04-29 00:00:00+00:00             Friday                  1.35   39   \n",
       "9  2016-04-29 00:00:00+00:00             Friday                  1.47   19   \n",
       "10 2016-04-29 00:00:00+00:00             Friday                  1.38   30   \n",
       "\n",
       "     Neighbourhood Scholarship Hypertension Diabetes Alcoholism Handicap  \\\n",
       "5        REPÚBLICA          No          Yes       No         No        0   \n",
       "6       GOIABEIRAS          No           No       No         No        0   \n",
       "7       GOIABEIRAS          No           No       No         No        0   \n",
       "9        CONQUISTA          No           No       No         No        0   \n",
       "10  NOVA PALESTINA          No           No       No         No        0   \n",
       "\n",
       "   SMS_received No_show  \n",
       "5            No      No  \n",
       "6            No     Yes  \n",
       "7            No     Yes  \n",
       "9            No      No  \n",
       "10           No      No  "
      ]
     },
     "execution_count": 24,
     "metadata": {},
     "output_type": "execute_result"
    }
   ],
   "source": [
    "clean_df.head()"
   ]
  },
  {
   "cell_type": "markdown",
   "id": "0ebb5937",
   "metadata": {},
   "source": [
    "### Changing the case of the neighbourhood column"
   ]
  },
  {
   "cell_type": "code",
   "execution_count": 25,
   "id": "069371e8",
   "metadata": {},
   "outputs": [],
   "source": [
    "clean_df.Neighbourhood = clean_df.Neighbourhood.str.title()"
   ]
  },
  {
   "cell_type": "code",
   "execution_count": 26,
   "id": "c99de219",
   "metadata": {},
   "outputs": [
    {
     "data": {
      "text/html": [
       "<div>\n",
       "<style scoped>\n",
       "    .dataframe tbody tr th:only-of-type {\n",
       "        vertical-align: middle;\n",
       "    }\n",
       "\n",
       "    .dataframe tbody tr th {\n",
       "        vertical-align: top;\n",
       "    }\n",
       "\n",
       "    .dataframe thead th {\n",
       "        text-align: right;\n",
       "    }\n",
       "</style>\n",
       "<table border=\"1\" class=\"dataframe\">\n",
       "  <thead>\n",
       "    <tr style=\"text-align: right;\">\n",
       "      <th></th>\n",
       "      <th>PatientId</th>\n",
       "      <th>AppointmentID</th>\n",
       "      <th>Gender</th>\n",
       "      <th>Scheduled_Day</th>\n",
       "      <th>Appointment_Day</th>\n",
       "      <th>Day_of_Appointment</th>\n",
       "      <th>Waiting_time_in_days</th>\n",
       "      <th>Age</th>\n",
       "      <th>Neighbourhood</th>\n",
       "      <th>Scholarship</th>\n",
       "      <th>Hypertension</th>\n",
       "      <th>Diabetes</th>\n",
       "      <th>Alcoholism</th>\n",
       "      <th>Handicap</th>\n",
       "      <th>SMS_received</th>\n",
       "      <th>No_show</th>\n",
       "    </tr>\n",
       "  </thead>\n",
       "  <tbody>\n",
       "    <tr>\n",
       "      <th>83488</th>\n",
       "      <td>1.416854e+14</td>\n",
       "      <td>5733304</td>\n",
       "      <td>F</td>\n",
       "      <td>2016-05-24 13:40:49+00:00</td>\n",
       "      <td>2016-05-30 00:00:00+00:00</td>\n",
       "      <td>Monday</td>\n",
       "      <td>5.43</td>\n",
       "      <td>33</td>\n",
       "      <td>Maria Ortiz</td>\n",
       "      <td>No</td>\n",
       "      <td>No</td>\n",
       "      <td>No</td>\n",
       "      <td>No</td>\n",
       "      <td>0</td>\n",
       "      <td>Yes</td>\n",
       "      <td>No</td>\n",
       "    </tr>\n",
       "    <tr>\n",
       "      <th>98789</th>\n",
       "      <td>4.599121e+12</td>\n",
       "      <td>5720960</td>\n",
       "      <td>F</td>\n",
       "      <td>2016-05-19 14:59:53+00:00</td>\n",
       "      <td>2016-06-02 00:00:00+00:00</td>\n",
       "      <td>Thursday</td>\n",
       "      <td>13.38</td>\n",
       "      <td>24</td>\n",
       "      <td>Caratoíra</td>\n",
       "      <td>No</td>\n",
       "      <td>No</td>\n",
       "      <td>No</td>\n",
       "      <td>No</td>\n",
       "      <td>0</td>\n",
       "      <td>Yes</td>\n",
       "      <td>No</td>\n",
       "    </tr>\n",
       "    <tr>\n",
       "      <th>18253</th>\n",
       "      <td>6.898155e+12</td>\n",
       "      <td>5676095</td>\n",
       "      <td>F</td>\n",
       "      <td>2016-05-09 14:57:23+00:00</td>\n",
       "      <td>2016-05-11 00:00:00+00:00</td>\n",
       "      <td>Wednesday</td>\n",
       "      <td>1.38</td>\n",
       "      <td>3</td>\n",
       "      <td>Resistência</td>\n",
       "      <td>No</td>\n",
       "      <td>No</td>\n",
       "      <td>No</td>\n",
       "      <td>No</td>\n",
       "      <td>0</td>\n",
       "      <td>No</td>\n",
       "      <td>Yes</td>\n",
       "    </tr>\n",
       "    <tr>\n",
       "      <th>29603</th>\n",
       "      <td>3.361362e+09</td>\n",
       "      <td>5716639</td>\n",
       "      <td>F</td>\n",
       "      <td>2016-05-19 07:02:19+00:00</td>\n",
       "      <td>2016-05-25 00:00:00+00:00</td>\n",
       "      <td>Wednesday</td>\n",
       "      <td>5.71</td>\n",
       "      <td>26</td>\n",
       "      <td>São José</td>\n",
       "      <td>No</td>\n",
       "      <td>No</td>\n",
       "      <td>No</td>\n",
       "      <td>No</td>\n",
       "      <td>0</td>\n",
       "      <td>No</td>\n",
       "      <td>No</td>\n",
       "    </tr>\n",
       "    <tr>\n",
       "      <th>56319</th>\n",
       "      <td>9.851395e+13</td>\n",
       "      <td>5642470</td>\n",
       "      <td>F</td>\n",
       "      <td>2016-04-29 16:02:45+00:00</td>\n",
       "      <td>2016-05-30 00:00:00+00:00</td>\n",
       "      <td>Monday</td>\n",
       "      <td>30.33</td>\n",
       "      <td>46</td>\n",
       "      <td>São Benedito</td>\n",
       "      <td>No</td>\n",
       "      <td>No</td>\n",
       "      <td>No</td>\n",
       "      <td>No</td>\n",
       "      <td>0</td>\n",
       "      <td>No</td>\n",
       "      <td>No</td>\n",
       "    </tr>\n",
       "  </tbody>\n",
       "</table>\n",
       "</div>"
      ],
      "text/plain": [
       "          PatientId  AppointmentID Gender             Scheduled_Day  \\\n",
       "83488  1.416854e+14        5733304      F 2016-05-24 13:40:49+00:00   \n",
       "98789  4.599121e+12        5720960      F 2016-05-19 14:59:53+00:00   \n",
       "18253  6.898155e+12        5676095      F 2016-05-09 14:57:23+00:00   \n",
       "29603  3.361362e+09        5716639      F 2016-05-19 07:02:19+00:00   \n",
       "56319  9.851395e+13        5642470      F 2016-04-29 16:02:45+00:00   \n",
       "\n",
       "                Appointment_Day Day_of_Appointment  Waiting_time_in_days  Age  \\\n",
       "83488 2016-05-30 00:00:00+00:00             Monday                  5.43   33   \n",
       "98789 2016-06-02 00:00:00+00:00           Thursday                 13.38   24   \n",
       "18253 2016-05-11 00:00:00+00:00          Wednesday                  1.38    3   \n",
       "29603 2016-05-25 00:00:00+00:00          Wednesday                  5.71   26   \n",
       "56319 2016-05-30 00:00:00+00:00             Monday                 30.33   46   \n",
       "\n",
       "      Neighbourhood Scholarship Hypertension Diabetes Alcoholism Handicap  \\\n",
       "83488   Maria Ortiz          No           No       No         No        0   \n",
       "98789     Caratoíra          No           No       No         No        0   \n",
       "18253   Resistência          No           No       No         No        0   \n",
       "29603      São José          No           No       No         No        0   \n",
       "56319  São Benedito          No           No       No         No        0   \n",
       "\n",
       "      SMS_received No_show  \n",
       "83488          Yes      No  \n",
       "98789          Yes      No  \n",
       "18253           No     Yes  \n",
       "29603           No      No  \n",
       "56319           No      No  "
      ]
     },
     "execution_count": 26,
     "metadata": {},
     "output_type": "execute_result"
    }
   ],
   "source": [
    "clean_df.sample(5)"
   ]
  },
  {
   "cell_type": "markdown",
   "id": "ce884bff",
   "metadata": {},
   "source": [
    "### Dropping the AppointmentID colummn since all its values are unique"
   ]
  },
  {
   "cell_type": "code",
   "execution_count": 27,
   "id": "7e4e2f01",
   "metadata": {},
   "outputs": [],
   "source": [
    "clean_df = clean_df.drop(columns='AppointmentID')"
   ]
  },
  {
   "cell_type": "code",
   "execution_count": 28,
   "id": "f2795152",
   "metadata": {},
   "outputs": [
    {
     "data": {
      "text/plain": [
       "Index(['PatientId', 'Gender', 'Scheduled_Day', 'Appointment_Day',\n",
       "       'Day_of_Appointment', 'Waiting_time_in_days', 'Age', 'Neighbourhood',\n",
       "       'Scholarship', 'Hypertension', 'Diabetes', 'Alcoholism', 'Handicap',\n",
       "       'SMS_received', 'No_show'],\n",
       "      dtype='object')"
      ]
     },
     "execution_count": 28,
     "metadata": {},
     "output_type": "execute_result"
    }
   ],
   "source": [
    "# Testing the Code \n",
    "clean_df.columns"
   ]
  },
  {
   "cell_type": "markdown",
   "id": "eeb179a1",
   "metadata": {},
   "source": [
    "### Making the No_show column easier to understand by renaming the column and its values"
   ]
  },
  {
   "cell_type": "code",
   "execution_count": 29,
   "id": "82729b51",
   "metadata": {},
   "outputs": [],
   "source": [
    "clean_df.rename(columns={'No_show':'Completion_status'} , inplace = True)"
   ]
  },
  {
   "cell_type": "code",
   "execution_count": 30,
   "id": "a976afe2",
   "metadata": {},
   "outputs": [],
   "source": [
    "clean_df['Completion_status'].replace({'No':'Complete','Yes':'Incomplete'},inplace = True)"
   ]
  },
  {
   "cell_type": "markdown",
   "id": "b385c764",
   "metadata": {},
   "source": [
    "### Storing the Dataframe in a Csv file"
   ]
  },
  {
   "cell_type": "code",
   "execution_count": 31,
   "id": "ce954ea8",
   "metadata": {},
   "outputs": [],
   "source": [
    "clean_df.to_csv('noshowappointments-may-2016.csv')"
   ]
  },
  {
   "cell_type": "markdown",
   "id": "816e2a87",
   "metadata": {},
   "source": [
    "## Exploratory Data Analysis"
   ]
  },
  {
   "cell_type": "code",
   "execution_count": 32,
   "id": "624a66f7",
   "metadata": {},
   "outputs": [
    {
     "data": {
      "text/html": [
       "<div>\n",
       "<style scoped>\n",
       "    .dataframe tbody tr th:only-of-type {\n",
       "        vertical-align: middle;\n",
       "    }\n",
       "\n",
       "    .dataframe tbody tr th {\n",
       "        vertical-align: top;\n",
       "    }\n",
       "\n",
       "    .dataframe thead th {\n",
       "        text-align: right;\n",
       "    }\n",
       "</style>\n",
       "<table border=\"1\" class=\"dataframe\">\n",
       "  <thead>\n",
       "    <tr style=\"text-align: right;\">\n",
       "      <th></th>\n",
       "      <th>PatientId</th>\n",
       "      <th>Gender</th>\n",
       "      <th>Scheduled_Day</th>\n",
       "      <th>Appointment_Day</th>\n",
       "      <th>Day_of_Appointment</th>\n",
       "      <th>Waiting_time_in_days</th>\n",
       "      <th>Age</th>\n",
       "      <th>Neighbourhood</th>\n",
       "      <th>Scholarship</th>\n",
       "      <th>Hypertension</th>\n",
       "      <th>Diabetes</th>\n",
       "      <th>Alcoholism</th>\n",
       "      <th>Handicap</th>\n",
       "      <th>SMS_received</th>\n",
       "      <th>Completion_status</th>\n",
       "    </tr>\n",
       "  </thead>\n",
       "  <tbody>\n",
       "    <tr>\n",
       "      <th>21619</th>\n",
       "      <td>7.443276e+13</td>\n",
       "      <td>F</td>\n",
       "      <td>2016-05-10 17:22:55+00:00</td>\n",
       "      <td>2016-05-20 00:00:00+00:00</td>\n",
       "      <td>Friday</td>\n",
       "      <td>9.28</td>\n",
       "      <td>66</td>\n",
       "      <td>Santo André</td>\n",
       "      <td>No</td>\n",
       "      <td>Yes</td>\n",
       "      <td>Yes</td>\n",
       "      <td>No</td>\n",
       "      <td>0</td>\n",
       "      <td>No</td>\n",
       "      <td>Incomplete</td>\n",
       "    </tr>\n",
       "    <tr>\n",
       "      <th>97234</th>\n",
       "      <td>6.528387e+11</td>\n",
       "      <td>F</td>\n",
       "      <td>2016-06-02 12:00:00+00:00</td>\n",
       "      <td>2016-06-06 00:00:00+00:00</td>\n",
       "      <td>Monday</td>\n",
       "      <td>3.50</td>\n",
       "      <td>57</td>\n",
       "      <td>Cruzamento</td>\n",
       "      <td>No</td>\n",
       "      <td>Yes</td>\n",
       "      <td>Yes</td>\n",
       "      <td>No</td>\n",
       "      <td>0</td>\n",
       "      <td>Yes</td>\n",
       "      <td>Complete</td>\n",
       "    </tr>\n",
       "    <tr>\n",
       "      <th>6484</th>\n",
       "      <td>1.859465e+13</td>\n",
       "      <td>M</td>\n",
       "      <td>2016-04-28 15:51:58+00:00</td>\n",
       "      <td>2016-05-02 00:00:00+00:00</td>\n",
       "      <td>Monday</td>\n",
       "      <td>3.34</td>\n",
       "      <td>60</td>\n",
       "      <td>São Cristóvão</td>\n",
       "      <td>No</td>\n",
       "      <td>Yes</td>\n",
       "      <td>No</td>\n",
       "      <td>No</td>\n",
       "      <td>0</td>\n",
       "      <td>Yes</td>\n",
       "      <td>Complete</td>\n",
       "    </tr>\n",
       "    <tr>\n",
       "      <th>100278</th>\n",
       "      <td>7.623436e+13</td>\n",
       "      <td>M</td>\n",
       "      <td>2016-05-25 11:27:41+00:00</td>\n",
       "      <td>2016-06-07 00:00:00+00:00</td>\n",
       "      <td>Tuesday</td>\n",
       "      <td>12.52</td>\n",
       "      <td>67</td>\n",
       "      <td>Da Penha</td>\n",
       "      <td>No</td>\n",
       "      <td>Yes</td>\n",
       "      <td>Yes</td>\n",
       "      <td>No</td>\n",
       "      <td>0</td>\n",
       "      <td>Yes</td>\n",
       "      <td>Complete</td>\n",
       "    </tr>\n",
       "    <tr>\n",
       "      <th>34365</th>\n",
       "      <td>5.373364e+13</td>\n",
       "      <td>F</td>\n",
       "      <td>2016-05-11 08:57:00+00:00</td>\n",
       "      <td>2016-05-17 00:00:00+00:00</td>\n",
       "      <td>Tuesday</td>\n",
       "      <td>5.63</td>\n",
       "      <td>28</td>\n",
       "      <td>Santo André</td>\n",
       "      <td>Yes</td>\n",
       "      <td>No</td>\n",
       "      <td>No</td>\n",
       "      <td>No</td>\n",
       "      <td>0</td>\n",
       "      <td>No</td>\n",
       "      <td>Complete</td>\n",
       "    </tr>\n",
       "    <tr>\n",
       "      <th>37283</th>\n",
       "      <td>8.754349e+13</td>\n",
       "      <td>M</td>\n",
       "      <td>2016-05-24 13:49:42+00:00</td>\n",
       "      <td>2016-05-31 00:00:00+00:00</td>\n",
       "      <td>Tuesday</td>\n",
       "      <td>6.42</td>\n",
       "      <td>13</td>\n",
       "      <td>Jucutuquara</td>\n",
       "      <td>No</td>\n",
       "      <td>No</td>\n",
       "      <td>No</td>\n",
       "      <td>No</td>\n",
       "      <td>0</td>\n",
       "      <td>Yes</td>\n",
       "      <td>Incomplete</td>\n",
       "    </tr>\n",
       "    <tr>\n",
       "      <th>20208</th>\n",
       "      <td>1.541500e+14</td>\n",
       "      <td>F</td>\n",
       "      <td>2016-05-20 07:20:28+00:00</td>\n",
       "      <td>2016-05-25 00:00:00+00:00</td>\n",
       "      <td>Wednesday</td>\n",
       "      <td>4.69</td>\n",
       "      <td>50</td>\n",
       "      <td>Redenção</td>\n",
       "      <td>No</td>\n",
       "      <td>No</td>\n",
       "      <td>No</td>\n",
       "      <td>No</td>\n",
       "      <td>0</td>\n",
       "      <td>Yes</td>\n",
       "      <td>Complete</td>\n",
       "    </tr>\n",
       "    <tr>\n",
       "      <th>17867</th>\n",
       "      <td>6.268984e+12</td>\n",
       "      <td>M</td>\n",
       "      <td>2016-05-02 07:52:06+00:00</td>\n",
       "      <td>2016-05-05 00:00:00+00:00</td>\n",
       "      <td>Thursday</td>\n",
       "      <td>2.67</td>\n",
       "      <td>49</td>\n",
       "      <td>Santa Martha</td>\n",
       "      <td>No</td>\n",
       "      <td>No</td>\n",
       "      <td>No</td>\n",
       "      <td>Yes</td>\n",
       "      <td>0</td>\n",
       "      <td>No</td>\n",
       "      <td>Complete</td>\n",
       "    </tr>\n",
       "    <tr>\n",
       "      <th>95580</th>\n",
       "      <td>5.187696e+13</td>\n",
       "      <td>F</td>\n",
       "      <td>2016-05-18 14:26:16+00:00</td>\n",
       "      <td>2016-06-08 00:00:00+00:00</td>\n",
       "      <td>Wednesday</td>\n",
       "      <td>20.40</td>\n",
       "      <td>18</td>\n",
       "      <td>Inhanguetá</td>\n",
       "      <td>No</td>\n",
       "      <td>No</td>\n",
       "      <td>No</td>\n",
       "      <td>No</td>\n",
       "      <td>0</td>\n",
       "      <td>Yes</td>\n",
       "      <td>Incomplete</td>\n",
       "    </tr>\n",
       "    <tr>\n",
       "      <th>49239</th>\n",
       "      <td>1.282551e+13</td>\n",
       "      <td>F</td>\n",
       "      <td>2016-05-16 09:49:06+00:00</td>\n",
       "      <td>2016-05-17 00:00:00+00:00</td>\n",
       "      <td>Tuesday</td>\n",
       "      <td>0.59</td>\n",
       "      <td>73</td>\n",
       "      <td>Jardim Da Penha</td>\n",
       "      <td>No</td>\n",
       "      <td>Yes</td>\n",
       "      <td>No</td>\n",
       "      <td>No</td>\n",
       "      <td>0</td>\n",
       "      <td>No</td>\n",
       "      <td>Complete</td>\n",
       "    </tr>\n",
       "  </tbody>\n",
       "</table>\n",
       "</div>"
      ],
      "text/plain": [
       "           PatientId Gender             Scheduled_Day  \\\n",
       "21619   7.443276e+13      F 2016-05-10 17:22:55+00:00   \n",
       "97234   6.528387e+11      F 2016-06-02 12:00:00+00:00   \n",
       "6484    1.859465e+13      M 2016-04-28 15:51:58+00:00   \n",
       "100278  7.623436e+13      M 2016-05-25 11:27:41+00:00   \n",
       "34365   5.373364e+13      F 2016-05-11 08:57:00+00:00   \n",
       "37283   8.754349e+13      M 2016-05-24 13:49:42+00:00   \n",
       "20208   1.541500e+14      F 2016-05-20 07:20:28+00:00   \n",
       "17867   6.268984e+12      M 2016-05-02 07:52:06+00:00   \n",
       "95580   5.187696e+13      F 2016-05-18 14:26:16+00:00   \n",
       "49239   1.282551e+13      F 2016-05-16 09:49:06+00:00   \n",
       "\n",
       "                 Appointment_Day Day_of_Appointment  Waiting_time_in_days  \\\n",
       "21619  2016-05-20 00:00:00+00:00             Friday                  9.28   \n",
       "97234  2016-06-06 00:00:00+00:00             Monday                  3.50   \n",
       "6484   2016-05-02 00:00:00+00:00             Monday                  3.34   \n",
       "100278 2016-06-07 00:00:00+00:00            Tuesday                 12.52   \n",
       "34365  2016-05-17 00:00:00+00:00            Tuesday                  5.63   \n",
       "37283  2016-05-31 00:00:00+00:00            Tuesday                  6.42   \n",
       "20208  2016-05-25 00:00:00+00:00          Wednesday                  4.69   \n",
       "17867  2016-05-05 00:00:00+00:00           Thursday                  2.67   \n",
       "95580  2016-06-08 00:00:00+00:00          Wednesday                 20.40   \n",
       "49239  2016-05-17 00:00:00+00:00            Tuesday                  0.59   \n",
       "\n",
       "        Age    Neighbourhood Scholarship Hypertension Diabetes Alcoholism  \\\n",
       "21619    66      Santo André          No          Yes      Yes         No   \n",
       "97234    57       Cruzamento          No          Yes      Yes         No   \n",
       "6484     60    São Cristóvão          No          Yes       No         No   \n",
       "100278   67         Da Penha          No          Yes      Yes         No   \n",
       "34365    28      Santo André         Yes           No       No         No   \n",
       "37283    13      Jucutuquara          No           No       No         No   \n",
       "20208    50         Redenção          No           No       No         No   \n",
       "17867    49     Santa Martha          No           No       No        Yes   \n",
       "95580    18       Inhanguetá          No           No       No         No   \n",
       "49239    73  Jardim Da Penha          No          Yes       No         No   \n",
       "\n",
       "       Handicap SMS_received Completion_status  \n",
       "21619         0           No        Incomplete  \n",
       "97234         0          Yes          Complete  \n",
       "6484          0          Yes          Complete  \n",
       "100278        0          Yes          Complete  \n",
       "34365         0           No          Complete  \n",
       "37283         0          Yes        Incomplete  \n",
       "20208         0          Yes          Complete  \n",
       "17867         0           No          Complete  \n",
       "95580         0          Yes        Incomplete  \n",
       "49239         0           No          Complete  "
      ]
     },
     "execution_count": 32,
     "metadata": {},
     "output_type": "execute_result"
    }
   ],
   "source": [
    "clean_df.sample(10)"
   ]
  },
  {
   "cell_type": "markdown",
   "id": "7ab1b9b3",
   "metadata": {},
   "source": [
    "### What is the percentage of each gender?"
   ]
  },
  {
   "cell_type": "code",
   "execution_count": 33,
   "id": "79fcb313",
   "metadata": {},
   "outputs": [
    {
     "data": {
      "image/png": "[encoded data removed]",
      "text/plain": [
       "<Figure size 432x288 with 1 Axes>"
      ]
     },
     "metadata": {},
     "output_type": "display_data"
    }
   ],
   "source": [
    "gender = clean_df.Gender.value_counts()\n",
    "plt.pie(gender,\n",
    "       labels=['Female','Male'],\n",
    "       autopct='%1.1f%%',\n",
    "       shadow=False,\n",
    "       explode=(0.1,0)\n",
    "       )\n",
    "plt.title(\"Patient's Gender\",fontweight = 'bold')\n",
    "plt.axis('equal');"
   ]
  },
  {
   "cell_type": "markdown",
   "id": "7c1ffb9b",
   "metadata": {},
   "source": [
    "The female gender had more appointments than the male"
   ]
  },
  {
   "cell_type": "markdown",
   "id": "fe8dca0e",
   "metadata": {},
   "source": [
    "### What is the ratio of alcohol takers to non-alcohol takers?"
   ]
  },
  {
   "cell_type": "code",
   "execution_count": 34,
   "id": "26370cb9",
   "metadata": {},
   "outputs": [
    {
     "data": {
      "image/png": "[encoded data removed]",
      "text/plain": [
       "<Figure size 432x288 with 1 Axes>"
      ]
     },
     "metadata": {},
     "output_type": "display_data"
    }
   ],
   "source": [
    "alcohol = clean_df.Alcoholism.value_counts()\n",
    "plt.pie(alcohol,\n",
    "       labels=['No','Yes'],\n",
    "       autopct='%1.1f%%',\n",
    "       shadow=False,\n",
    "       explode=(0.1,0)\n",
    "       )\n",
    "plt.title(\"Percentage Of Patient's that consume alcohol\",fontweight = 'bold')\n",
    "plt.axis('equal');"
   ]
  },
  {
   "cell_type": "markdown",
   "id": "f04419cc",
   "metadata": {},
   "source": [
    "Very few patients consume alcohol"
   ]
  },
  {
   "cell_type": "markdown",
   "id": "514fe483",
   "metadata": {},
   "source": [
    "### What percent of patients received an sms?"
   ]
  },
  {
   "cell_type": "code",
   "execution_count": 35,
   "id": "497c0b74",
   "metadata": {},
   "outputs": [
    {
     "data": {
      "image/png": "[encoded data removed]",
      "text/plain": [
       "<Figure size 432x288 with 1 Axes>"
      ]
     },
     "metadata": {},
     "output_type": "display_data"
    }
   ],
   "source": [
    "sms = clean_df.SMS_received.value_counts()\n",
    "plt.pie(sms,\n",
    "       labels=['No','Yes'],\n",
    "       autopct='%1.1f%%',\n",
    "       shadow=False,\n",
    "       explode=(0,0)\n",
    "       )\n",
    "plt.title(\"SMS received\")\n",
    "plt.axis('equal');"
   ]
  },
  {
   "cell_type": "markdown",
   "id": "02487b0c",
   "metadata": {},
   "source": [
    "Almost half of the patients received an email from the hospital"
   ]
  },
  {
   "cell_type": "markdown",
   "id": "59e3627d",
   "metadata": {},
   "source": [
    "### What percent of the patients completed the medical process?"
   ]
  },
  {
   "cell_type": "code",
   "execution_count": 36,
   "id": "90d76909",
   "metadata": {},
   "outputs": [
    {
     "data": {
      "image/png": "[encoded data removed]",
      "text/plain": [
       "<Figure size 432x288 with 1 Axes>"
      ]
     },
     "metadata": {},
     "output_type": "display_data"
    }
   ],
   "source": [
    "sho = clean_df.Completion_status.value_counts()\n",
    "plt.pie(sho,\n",
    "       labels=['Complete','Incomplete'],\n",
    "       autopct='%1.1f%%',\n",
    "       shadow=False,\n",
    "       explode=(0,0)\n",
    "       )\n",
    "plt.title(\"Patient's Completion Status\")\n",
    "plt.axis('equal');"
   ]
  },
  {
   "cell_type": "markdown",
   "id": "0ba3697d",
   "metadata": {},
   "source": [
    "Most patients did completed the medical process "
   ]
  },
  {
   "cell_type": "markdown",
   "id": "737f05e7",
   "metadata": {},
   "source": [
    "### Which Age group is the most common age group among patients?"
   ]
  },
  {
   "cell_type": "code",
   "execution_count": 37,
   "id": "7fe9b74a",
   "metadata": {},
   "outputs": [
    {
     "data": {
      "image/png": "[encoded data removed]",
      "text/plain": [
       "<Figure size 1080x576 with 1 Axes>"
      ]
     },
     "metadata": {
      "needs_background": "light"
     },
     "output_type": "display_data"
    }
   ],
   "source": [
    "plt.figure(figsize=[15,8])\n",
    "bins=np.arange(0,103,1)\n",
    "ticks = [0,5,10,15,20,25,30,35,40,45,50,55,60,65,70,75,80,85,90,95,100]\n",
    "labels=['{}'.format(v) for v in ticks]\n",
    "\n",
    "plt.hist(data=clean_df,x='Age',bins=bins,rwidth=0.8)\n",
    "plt.title(\"Patient's Age Distribution\",y=1 ,fontweight = 'bold')\n",
    "plt.xlabel('Age',fontweight = 'bold')\n",
    "plt.ylabel('Age Frequency',fontweight = 'bold')\n",
    "plt.xticks(ticks,labels);"
   ]
  },
  {
   "cell_type": "markdown",
   "id": "932a3b42",
   "metadata": {},
   "source": [
    "The data is almost randomly distributed because at the extreme right side the data is skewed"
   ]
  },
  {
   "cell_type": "code",
   "execution_count": 38,
   "id": "b0888bf9",
   "metadata": {},
   "outputs": [
    {
     "data": {
      "image/png": "[encoded data removed]",
      "text/plain": [
       "<Figure size 1080x576 with 1 Axes>"
      ]
     },
     "metadata": {
      "needs_background": "light"
     },
     "output_type": "display_data"
    }
   ],
   "source": [
    "plt.figure(figsize=[15,8])\n",
    "bins=np.arange(0,61,1)\n",
    "ticks = [0,5,10,15,20,25,30,35,40,45,50,55,60]\n",
    "labels=['{}'.format(v) for v in ticks]\n",
    "\n",
    "plt.hist(data=clean_df.query('Age <= 60'),x='Age',bins=bins,rwidth=0.8)\n",
    "plt.title(\"Patient's Age Distribution\",y=1 ,fontweight = 'bold')\n",
    "plt.xlabel('Age',fontweight = 'bold')\n",
    "plt.ylabel('Age Frequency',fontweight = 'bold')\n",
    "plt.xticks(ticks,labels);"
   ]
  },
  {
   "cell_type": "code",
   "execution_count": 39,
   "id": "0a34269e",
   "metadata": {},
   "outputs": [
    {
     "data": {
      "image/png": "[encoded data removed]",
      "text/plain": [
       "<Figure size 1080x576 with 1 Axes>"
      ]
     },
     "metadata": {
      "needs_background": "light"
     },
     "output_type": "display_data"
    }
   ],
   "source": [
    "plt.figure(figsize=[15,8])\n",
    "bins=np.arange(0,66,1)\n",
    "ticks = [0,5,10,15,20,25,30,35,40,45,50,55,60,65]\n",
    "labels=['{}'.format(v) for v in ticks]\n",
    "\n",
    "plt.hist(data=clean_df.query('Age <= 65'),x='Age',bins=bins,rwidth=0.8)\n",
    "plt.title(\"Patient's Age Distribution\",y=1 ,fontweight = 'bold')\n",
    "plt.xlabel('Age',fontweight = 'bold')\n",
    "plt.ylabel('Age Frequency',fontweight = 'bold')\n",
    "plt.xticks(ticks,labels);"
   ]
  },
  {
   "cell_type": "code",
   "execution_count": 40,
   "id": "fc6082d7",
   "metadata": {},
   "outputs": [
    {
     "data": {
      "image/png": "[encoded data removed]",
      "text/plain": [
       "<Figure size 1080x576 with 1 Axes>"
      ]
     },
     "metadata": {
      "needs_background": "light"
     },
     "output_type": "display_data"
    }
   ],
   "source": [
    "plt.figure(figsize=[15,8])\n",
    "bins=np.arange(0,81,1)\n",
    "ticks = [0,5,10,15,20,25,30,35,40,45,50,55,60,65,70]\n",
    "labels=['{}'.format(v) for v in ticks]\n",
    "\n",
    "plt.hist(data=clean_df.query('Age <= 70'),x='Age',bins=bins,rwidth=0.8)\n",
    "plt.title(\"Patient's Age Distribution\",y=1 ,fontweight = 'bold')\n",
    "plt.xlabel('Age',fontweight = 'bold')\n",
    "plt.ylabel('Age Frequency',fontweight = 'bold')\n",
    "plt.xticks(ticks,labels);"
   ]
  },
  {
   "cell_type": "markdown",
   "id": "74431e52",
   "metadata": {},
   "source": [
    "From the histograms above due to the different boundaries set we can see that the highest peak of this distribution is between the 50-60 age mark though this data has several peaks"
   ]
  },
  {
   "cell_type": "markdown",
   "id": "1eabcdca",
   "metadata": {},
   "source": [
    "### What was the most common time range that patients had to wait? "
   ]
  },
  {
   "cell_type": "code",
   "execution_count": 41,
   "id": "6875790e",
   "metadata": {},
   "outputs": [
    {
     "data": {
      "image/png": "[encoded data removed]",
      "text/plain": [
       "<Figure size 1080x576 with 1 Axes>"
      ]
     },
     "metadata": {
      "needs_background": "light"
     },
     "output_type": "display_data"
    }
   ],
   "source": [
    "plt.figure(figsize=[15,8])\n",
    "bins=np.arange(0,90,1)\n",
    "ticks = [0,5,10,15,20,25,30,35,40,45,50,55,60,65,70,75,80,85,90,95,100]\n",
    "labels=['{}'.format(v) for v in ticks]\n",
    "\n",
    "plt.hist(data=clean_df,x='Waiting_time_in_days',bins=bins,rwidth=0.8)\n",
    "plt.title(\"Daily Waiting Time Distribution\",y=1 ,fontweight = 'bold')\n",
    "plt.xlabel('Waiting Time in days',fontweight = 'bold')\n",
    "plt.ylabel('Daily Waiting Time Frequency',fontweight = 'bold')\n",
    "plt.xticks(ticks,labels);"
   ]
  },
  {
   "cell_type": "markdown",
   "id": "9391478b",
   "metadata": {},
   "source": [
    "The data distribution is right skewed hinting that most patients didnt have to wait long after their scheduled appointment"
   ]
  },
  {
   "cell_type": "markdown",
   "id": "aeb69f74",
   "metadata": {},
   "source": [
    "### What is the relationship between the handicap patients and the time they wait for their appointments?"
   ]
  },
  {
   "cell_type": "code",
   "execution_count": 42,
   "id": "a14200b7",
   "metadata": {},
   "outputs": [
    {
     "data": {
      "text/plain": [
       "<AxesSubplot:xlabel='Waiting_time_in_days', ylabel='Handicap'>"
      ]
     },
     "execution_count": 42,
     "metadata": {},
     "output_type": "execute_result"
    },
    {
     "data": {
      "image/png": "[encoded data removed]",
      "text/plain": [
       "<Figure size 432x288 with 1 Axes>"
      ]
     },
     "metadata": {
      "needs_background": "light"
     },
     "output_type": "display_data"
    }
   ],
   "source": [
    "sb.violinplot(x=clean_df.Waiting_time_in_days,y=clean_df.Handicap)"
   ]
  },
  {
   "cell_type": "markdown",
   "id": "4e046a78",
   "metadata": {},
   "source": [
    "- The non-handicap patients wait a longer time than the handicap patients and the patients with more severe disabilities do not wait too long to get attended\n",
    "- As the severity of the disability increases the waiting time decreases"
   ]
  },
  {
   "cell_type": "markdown",
   "id": "75c6c9e4",
   "metadata": {},
   "source": [
    "### What is the relationship between the scholars and the waiting time?"
   ]
  },
  {
   "cell_type": "code",
   "execution_count": 43,
   "id": "dca8703d",
   "metadata": {},
   "outputs": [
    {
     "data": {
      "image/png": "[encoded data removed]",
      "text/plain": [
       "<Figure size 432x288 with 1 Axes>"
      ]
     },
     "metadata": {
      "needs_background": "light"
     },
     "output_type": "display_data"
    }
   ],
   "source": [
    "sb.violinplot(x=clean_df.Waiting_time_in_days,y=clean_df.Scholarship);"
   ]
  },
  {
   "cell_type": "code",
   "execution_count": 44,
   "id": "c9bcd300",
   "metadata": {},
   "outputs": [
    {
     "data": {
      "image/png": "[encoded data removed]",
      "text/plain": [
       "<Figure size 1080x648 with 1 Axes>"
      ]
     },
     "metadata": {
      "needs_background": "light"
     },
     "output_type": "display_data"
    }
   ],
   "source": [
    "plt.figure(figsize=[15,9])\n",
    "base_color=sb.color_palette()[3]\n",
    "sb.pointplot(data = clean_df, x='Scholarship',y = 'Waiting_time_in_days', kind = 'Point')\n",
    "plt.xlabel('Month')\n",
    "plt.ylabel('Average Waiting Days')\n",
    "plt.title('Waiting time in days');\n"
   ]
  },
  {
   "cell_type": "markdown",
   "id": "dd456445",
   "metadata": {},
   "source": [
    "The Scholars wait a shorter time "
   ]
  },
  {
   "cell_type": "markdown",
   "id": "ef17fdd2",
   "metadata": {},
   "source": [
    "### What is the relationship between the gender and waiting time?"
   ]
  },
  {
   "cell_type": "code",
   "execution_count": 45,
   "id": "f284eecb",
   "metadata": {},
   "outputs": [
    {
     "data": {
      "text/plain": [
       "<AxesSubplot:xlabel='Waiting_time_in_days', ylabel='Gender'>"
      ]
     },
     "execution_count": 45,
     "metadata": {},
     "output_type": "execute_result"
    },
    {
     "data": {
      "image/png": "[encoded data removed]",
      "text/plain": [
       "<Figure size 432x288 with 1 Axes>"
      ]
     },
     "metadata": {
      "needs_background": "light"
     },
     "output_type": "display_data"
    }
   ],
   "source": [
    "sb.boxplot(x=clean_df.Waiting_time_in_days,y=clean_df.Gender)"
   ]
  },
  {
   "cell_type": "code",
   "execution_count": 46,
   "id": "608a3771",
   "metadata": {},
   "outputs": [
    {
     "data": {
      "image/png": "[encoded data removed]",
      "text/plain": [
       "<Figure size 1080x648 with 1 Axes>"
      ]
     },
     "metadata": {
      "needs_background": "light"
     },
     "output_type": "display_data"
    }
   ],
   "source": [
    "plt.figure(figsize=[15,9])\n",
    "base_color=sb.color_palette()[3]\n",
    "sb.pointplot(data = clean_df, x='Gender',y = 'Waiting_time_in_days', kind = 'Point')\n",
    "plt.xlabel('Gender')\n",
    "plt.ylabel('Waiting time in days')\n",
    "plt.title('Average time in days for each gender',fontweight = 'bold');\n"
   ]
  },
  {
   "cell_type": "markdown",
   "id": "c70377fe",
   "metadata": {},
   "source": [
    "Male patients spend lesser time waiting time than the female patients"
   ]
  },
  {
   "cell_type": "markdown",
   "id": "cc5abfec",
   "metadata": {},
   "source": [
    "### Which day of the week is the most frequent for appointments?"
   ]
  },
  {
   "cell_type": "code",
   "execution_count": 47,
   "id": "ce15643a",
   "metadata": {},
   "outputs": [
    {
     "data": {
      "text/plain": [
       "<AxesSubplot:xlabel='count', ylabel='Day_of_Appointment'>"
      ]
     },
     "execution_count": 47,
     "metadata": {},
     "output_type": "execute_result"
    },
    {
     "data": {
      "image/png": "[encoded data removed]",
      "text/plain": [
       "<Figure size 432x288 with 1 Axes>"
      ]
     },
     "metadata": {
      "needs_background": "light"
     },
     "output_type": "display_data"
    }
   ],
   "source": [
    "base_color=sb.color_palette()[3]\n",
    "orders = clean_df.Day_of_Appointment.value_counts().index\n",
    "sb.countplot(y='Day_of_Appointment',data = clean_df,color = base_color ,order = orders)"
   ]
  },
  {
   "cell_type": "markdown",
   "id": "d76e446a",
   "metadata": {},
   "source": [
    "Wednesday is the most frequent day for appointments while very few appointments were on Saturday though there was no appointment on Sunday hinting the hospital was either closed or only open for emergencies on Sunday"
   ]
  },
  {
   "cell_type": "markdown",
   "id": "b66d6bf3",
   "metadata": {},
   "source": [
    "### Relationship between the gender of patients and handicap patients?"
   ]
  },
  {
   "cell_type": "code",
   "execution_count": 48,
   "id": "8e0deb79",
   "metadata": {},
   "outputs": [
    {
     "data": {
      "image/png": "[encoded data removed]",
      "text/plain": [
       "<Figure size 1080x576 with 1 Axes>"
      ]
     },
     "metadata": {
      "needs_background": "light"
     },
     "output_type": "display_data"
    }
   ],
   "source": [
    "plt.figure(figsize=[15,8])\n",
    "\n",
    "sb.countplot(data= clean_df ,hue ='Handicap', x='Gender');\n",
    "plt.title('Patients with disabilities',y=1 ,fontweight = 'bold')\n",
    "plt.xlabel('Severity of Handicap',fontweight = 'bold')\n",
    "plt.ylabel('Number of such cases',fontweight = 'bold');\n"
   ]
  },
  {
   "cell_type": "markdown",
   "id": "03c7fae6",
   "metadata": {},
   "source": [
    " Most male and female patients were not handicapped while there was still a greater number of handicapped female than male"
   ]
  },
  {
   "cell_type": "markdown",
   "id": "d4e6c644",
   "metadata": {},
   "source": [
    "### Which gender did not complete the medical process the most?"
   ]
  },
  {
   "cell_type": "code",
   "execution_count": 49,
   "id": "6b17eb10",
   "metadata": {},
   "outputs": [
    {
     "data": {
      "image/png": "[encoded data removed]",
      "text/plain": [
       "<Figure size 1080x576 with 1 Axes>"
      ]
     },
     "metadata": {
      "needs_background": "light"
     },
     "output_type": "display_data"
    }
   ],
   "source": [
    "plt.figure(figsize=[15,8])\n",
    "\n",
    "sb.countplot(data= clean_df ,hue ='Gender', x='Completion_status');\n",
    "plt.title('Completion status',y=1 ,fontweight = 'bold')\n",
    "plt.xlabel('Completion_status',fontweight = 'bold')\n",
    "plt.ylabel('Number of such cases',fontweight = 'bold');\n"
   ]
  },
  {
   "cell_type": "markdown",
   "id": "e18f4b0e",
   "metadata": {},
   "source": [
    "Female patients did not complete their medical process the most"
   ]
  },
  {
   "cell_type": "markdown",
   "id": "25957a26",
   "metadata": {},
   "source": [
    "### Does receiving an sms affect patient's Completion Status"
   ]
  },
  {
   "cell_type": "code",
   "execution_count": 51,
   "id": "5d9197b3",
   "metadata": {},
   "outputs": [
    {
     "data": {
      "text/plain": [
       "<AxesSubplot:xlabel='count', ylabel='Completion_status'>"
      ]
     },
     "execution_count": 51,
     "metadata": {},
     "output_type": "execute_result"
    },
    {
     "data": {
      "image/png": "[encoded data removed]",
      "text/plain": [
       "<Figure size 432x288 with 1 Axes>"
      ]
     },
     "metadata": {
      "needs_background": "light"
     },
     "output_type": "display_data"
    }
   ],
   "source": [
    "sb.countplot(data=clean_df,y='Completion_status',hue='SMS_received')"
   ]
  },
  {
   "cell_type": "markdown",
   "id": "49e360a4",
   "metadata": {},
   "source": [
    "Patient's receiving SMS didnt really affect the completion_status of their treatments"
   ]
  },
  {
   "cell_type": "code",
   "execution_count": null,
   "id": "5ed03a7e",
   "metadata": {},
   "outputs": [],
   "source": []
  }
 ],
 "metadata": {
  "kernelspec": {
   "display_name": "Python 3 (ipykernel)",
   "language": "python",
   "name": "python3"
  },
  "language_info": {
   "codemirror_mode": {
    "name": "ipython",
    "version": 3
   },
   "file_extension": ".py",
   "mimetype": "text/x-python",
   "name": "python",
   "nbconvert_exporter": "python",
   "pygments_lexer": "ipython3",
   "version": "3.9.12"
  }
 },
 "nbformat": 4,
 "nbformat_minor": 5
}
